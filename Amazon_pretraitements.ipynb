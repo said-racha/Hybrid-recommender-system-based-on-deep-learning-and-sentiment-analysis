{
  "nbformat": 4,
  "nbformat_minor": 0,
  "metadata": {
    "colab": {
      "name": "Amazon-pretraitements.ipynb",
      "provenance": [],
      "collapsed_sections": [
        "rY7x9suLQ0DA",
        "Cj6Rgt26RBZ4"
      ],
      "toc_visible": true,
      "include_colab_link": true
    },
    "kernelspec": {
      "name": "python3",
      "display_name": "Python 3"
    },
    "language_info": {
      "name": "python"
    }
  },
  "cells": [
    {
      "cell_type": "markdown",
      "metadata": {
        "id": "view-in-github",
        "colab_type": "text"
      },
      "source": [
        "<a href=\"https://colab.research.google.com/github/said-racha/Hybrid-recommender-system-based-on-deep-learning-and-sentiment-analysis/blob/main/Amazon_pretraitements.ipynb\" target=\"_parent\"><img src=\"https://colab.research.google.com/assets/colab-badge.svg\" alt=\"Open In Colab\"/></a>"
      ]
    },
    {
      "cell_type": "code",
      "metadata": {
        "colab": {
          "base_uri": "https://localhost:8080/"
        },
        "id": "OW6MKIBsI6EV",
        "outputId": "ec52ba05-8e79-48b5-824e-0480ca8638c7"
      },
      "source": [
        "from google.colab import drive\n",
        "drive.mount('/content/drive')"
      ],
      "execution_count": null,
      "outputs": [
        {
          "output_type": "stream",
          "text": [
            "Mounted at /content/drive\n"
          ],
          "name": "stdout"
        }
      ]
    },
    {
      "cell_type": "code",
      "metadata": {
        "id": "v42cor8cNseF"
      },
      "source": [
        "import pandas as pd\n",
        "import ast"
      ],
      "execution_count": null,
      "outputs": []
    },
    {
      "cell_type": "markdown",
      "metadata": {
        "id": "rY7x9suLQ0DA"
      },
      "source": [
        "#Traitement sur fichier json"
      ]
    },
    {
      "cell_type": "code",
      "metadata": {
        "colab": {
          "base_uri": "https://localhost:8080/",
          "height": 133
        },
        "id": "8ZrnfjNfJEUW",
        "outputId": "ccac6a06-fe96-4e96-95f1-742e098d0cf6"
      },
      "source": [
        "#lecteur du fichier json\n",
        "amazon_json= pd.read_json('/content/drive/MyDrive/Datasets/Amazon video games/Video_Games_5.json',lines=True)\n",
        "amazon_json[:3]"
      ],
      "execution_count": null,
      "outputs": [
        {
          "output_type": "execute_result",
          "data": {
            "text/html": [
              "<div>\n",
              "<style scoped>\n",
              "    .dataframe tbody tr th:only-of-type {\n",
              "        vertical-align: middle;\n",
              "    }\n",
              "\n",
              "    .dataframe tbody tr th {\n",
              "        vertical-align: top;\n",
              "    }\n",
              "\n",
              "    .dataframe thead th {\n",
              "        text-align: right;\n",
              "    }\n",
              "</style>\n",
              "<table border=\"1\" class=\"dataframe\">\n",
              "  <thead>\n",
              "    <tr style=\"text-align: right;\">\n",
              "      <th></th>\n",
              "      <th>reviewerID</th>\n",
              "      <th>asin</th>\n",
              "      <th>reviewerName</th>\n",
              "      <th>helpful</th>\n",
              "      <th>reviewText</th>\n",
              "      <th>overall</th>\n",
              "      <th>summary</th>\n",
              "      <th>unixReviewTime</th>\n",
              "      <th>reviewTime</th>\n",
              "    </tr>\n",
              "  </thead>\n",
              "  <tbody>\n",
              "    <tr>\n",
              "      <th>0</th>\n",
              "      <td>A2HD75EMZR8QLN</td>\n",
              "      <td>0700099867</td>\n",
              "      <td>123</td>\n",
              "      <td>[8, 12]</td>\n",
              "      <td>Installing the game was a struggle (because of...</td>\n",
              "      <td>1</td>\n",
              "      <td>Pay to unlock content? I don't think so.</td>\n",
              "      <td>1341792000</td>\n",
              "      <td>07 9, 2012</td>\n",
              "    </tr>\n",
              "    <tr>\n",
              "      <th>1</th>\n",
              "      <td>A3UR8NLLY1ZHCX</td>\n",
              "      <td>0700099867</td>\n",
              "      <td>Alejandro Henao \"Electronic Junky\"</td>\n",
              "      <td>[0, 0]</td>\n",
              "      <td>If you like rally cars get this game you will ...</td>\n",
              "      <td>4</td>\n",
              "      <td>Good rally game</td>\n",
              "      <td>1372550400</td>\n",
              "      <td>06 30, 2013</td>\n",
              "    </tr>\n",
              "    <tr>\n",
              "      <th>2</th>\n",
              "      <td>A1INA0F5CWW3J4</td>\n",
              "      <td>0700099867</td>\n",
              "      <td>Amazon Shopper \"Mr.Repsol\"</td>\n",
              "      <td>[0, 0]</td>\n",
              "      <td>1st shipment received a book instead of the ga...</td>\n",
              "      <td>1</td>\n",
              "      <td>Wrong key</td>\n",
              "      <td>1403913600</td>\n",
              "      <td>06 28, 2014</td>\n",
              "    </tr>\n",
              "  </tbody>\n",
              "</table>\n",
              "</div>"
            ],
            "text/plain": [
              "       reviewerID        asin  ... unixReviewTime   reviewTime\n",
              "0  A2HD75EMZR8QLN  0700099867  ...     1341792000   07 9, 2012\n",
              "1  A3UR8NLLY1ZHCX  0700099867  ...     1372550400  06 30, 2013\n",
              "2  A1INA0F5CWW3J4  0700099867  ...     1403913600  06 28, 2014\n",
              "\n",
              "[3 rows x 9 columns]"
            ]
          },
          "metadata": {
            "tags": []
          },
          "execution_count": 4
        }
      ]
    },
    {
      "cell_type": "code",
      "metadata": {
        "colab": {
          "base_uri": "https://localhost:8080/",
          "height": 133
        },
        "id": "oyg-c6dtMDO3",
        "outputId": "6f686235-ae75-45a8-a158-c8d9422be31c"
      },
      "source": [
        "#transformation a un fichier csv\n",
        "nomDuCsvFile='/content/drive/MyDrive/fichiers Csv/amazon_complet.csv'\n",
        "amazon_json.to_csv(nomDuCsvFile, sep='|', index=False) \n",
        "amazon_complet_csv=pd.read_csv(nomDuCsvFile, delimiter='|')\n",
        "amazon_complet_csv[:3]"
      ],
      "execution_count": null,
      "outputs": [
        {
          "output_type": "execute_result",
          "data": {
            "text/html": [
              "<div>\n",
              "<style scoped>\n",
              "    .dataframe tbody tr th:only-of-type {\n",
              "        vertical-align: middle;\n",
              "    }\n",
              "\n",
              "    .dataframe tbody tr th {\n",
              "        vertical-align: top;\n",
              "    }\n",
              "\n",
              "    .dataframe thead th {\n",
              "        text-align: right;\n",
              "    }\n",
              "</style>\n",
              "<table border=\"1\" class=\"dataframe\">\n",
              "  <thead>\n",
              "    <tr style=\"text-align: right;\">\n",
              "      <th></th>\n",
              "      <th>reviewerID</th>\n",
              "      <th>asin</th>\n",
              "      <th>reviewerName</th>\n",
              "      <th>helpful</th>\n",
              "      <th>reviewText</th>\n",
              "      <th>overall</th>\n",
              "      <th>summary</th>\n",
              "      <th>unixReviewTime</th>\n",
              "      <th>reviewTime</th>\n",
              "    </tr>\n",
              "  </thead>\n",
              "  <tbody>\n",
              "    <tr>\n",
              "      <th>0</th>\n",
              "      <td>A2HD75EMZR8QLN</td>\n",
              "      <td>0700099867</td>\n",
              "      <td>123</td>\n",
              "      <td>[8, 12]</td>\n",
              "      <td>Installing the game was a struggle (because of...</td>\n",
              "      <td>1</td>\n",
              "      <td>Pay to unlock content? I don't think so.</td>\n",
              "      <td>1341792000</td>\n",
              "      <td>07 9, 2012</td>\n",
              "    </tr>\n",
              "    <tr>\n",
              "      <th>1</th>\n",
              "      <td>A3UR8NLLY1ZHCX</td>\n",
              "      <td>0700099867</td>\n",
              "      <td>Alejandro Henao \"Electronic Junky\"</td>\n",
              "      <td>[0, 0]</td>\n",
              "      <td>If you like rally cars get this game you will ...</td>\n",
              "      <td>4</td>\n",
              "      <td>Good rally game</td>\n",
              "      <td>1372550400</td>\n",
              "      <td>06 30, 2013</td>\n",
              "    </tr>\n",
              "    <tr>\n",
              "      <th>2</th>\n",
              "      <td>A1INA0F5CWW3J4</td>\n",
              "      <td>0700099867</td>\n",
              "      <td>Amazon Shopper \"Mr.Repsol\"</td>\n",
              "      <td>[0, 0]</td>\n",
              "      <td>1st shipment received a book instead of the ga...</td>\n",
              "      <td>1</td>\n",
              "      <td>Wrong key</td>\n",
              "      <td>1403913600</td>\n",
              "      <td>06 28, 2014</td>\n",
              "    </tr>\n",
              "  </tbody>\n",
              "</table>\n",
              "</div>"
            ],
            "text/plain": [
              "       reviewerID        asin  ... unixReviewTime   reviewTime\n",
              "0  A2HD75EMZR8QLN  0700099867  ...     1341792000   07 9, 2012\n",
              "1  A3UR8NLLY1ZHCX  0700099867  ...     1372550400  06 30, 2013\n",
              "2  A1INA0F5CWW3J4  0700099867  ...     1403913600  06 28, 2014\n",
              "\n",
              "[3 rows x 9 columns]"
            ]
          },
          "metadata": {
            "tags": []
          },
          "execution_count": 5
        }
      ]
    },
    {
      "cell_type": "markdown",
      "metadata": {
        "id": "0uyRUxLaQ4Hm"
      },
      "source": [
        "#Traitement sur fichier csv"
      ]
    },
    {
      "cell_type": "markdown",
      "metadata": {
        "id": "Cj6Rgt26RBZ4"
      },
      "source": [
        "##Créer et arranger le dataset réduit"
      ]
    },
    {
      "cell_type": "code",
      "metadata": {
        "colab": {
          "base_uri": "https://localhost:8080/",
          "height": 133
        },
        "id": "jWptiVu_NTWl",
        "outputId": "430be1ba-6b01-4bea-91ba-bd804b9e03a3"
      },
      "source": [
        "amazon_complet=pd.read_csv('/content/drive/MyDrive/fichiers Csv/amazon_complet.csv', delimiter='|')\n",
        "amazon_reduit=amazon_complet.iloc[:,[0,1,4,5]] #recupperer dans un nouveau dataset que les colonnes que nous souhaitons étudier\n",
        "amazon_reduit[:3]"
      ],
      "execution_count": null,
      "outputs": [
        {
          "output_type": "execute_result",
          "data": {
            "text/html": [
              "<div>\n",
              "<style scoped>\n",
              "    .dataframe tbody tr th:only-of-type {\n",
              "        vertical-align: middle;\n",
              "    }\n",
              "\n",
              "    .dataframe tbody tr th {\n",
              "        vertical-align: top;\n",
              "    }\n",
              "\n",
              "    .dataframe thead th {\n",
              "        text-align: right;\n",
              "    }\n",
              "</style>\n",
              "<table border=\"1\" class=\"dataframe\">\n",
              "  <thead>\n",
              "    <tr style=\"text-align: right;\">\n",
              "      <th></th>\n",
              "      <th>reviewerID</th>\n",
              "      <th>asin</th>\n",
              "      <th>reviewText</th>\n",
              "      <th>overall</th>\n",
              "    </tr>\n",
              "  </thead>\n",
              "  <tbody>\n",
              "    <tr>\n",
              "      <th>0</th>\n",
              "      <td>A2HD75EMZR8QLN</td>\n",
              "      <td>0700099867</td>\n",
              "      <td>Installing the game was a struggle (because of...</td>\n",
              "      <td>1</td>\n",
              "    </tr>\n",
              "    <tr>\n",
              "      <th>1</th>\n",
              "      <td>A3UR8NLLY1ZHCX</td>\n",
              "      <td>0700099867</td>\n",
              "      <td>If you like rally cars get this game you will ...</td>\n",
              "      <td>4</td>\n",
              "    </tr>\n",
              "    <tr>\n",
              "      <th>2</th>\n",
              "      <td>A1INA0F5CWW3J4</td>\n",
              "      <td>0700099867</td>\n",
              "      <td>1st shipment received a book instead of the ga...</td>\n",
              "      <td>1</td>\n",
              "    </tr>\n",
              "  </tbody>\n",
              "</table>\n",
              "</div>"
            ],
            "text/plain": [
              "       reviewerID  ... overall\n",
              "0  A2HD75EMZR8QLN  ...       1\n",
              "1  A3UR8NLLY1ZHCX  ...       4\n",
              "2  A1INA0F5CWW3J4  ...       1\n",
              "\n",
              "[3 rows x 4 columns]"
            ]
          },
          "metadata": {
            "tags": []
          },
          "execution_count": 7
        }
      ]
    },
    {
      "cell_type": "code",
      "metadata": {
        "colab": {
          "base_uri": "https://localhost:8080/",
          "height": 215
        },
        "id": "fLwj5ONrOcLA",
        "outputId": "4e075691-bb0a-4bb5-bc3d-3c677c67ed4e"
      },
      "source": [
        "amazon_reduit.rename(columns = {'reviewerID':'user_id'}, inplace = True)\n",
        "amazon_reduit.rename(columns = {'asin':'item_id'}, inplace = True)\n",
        "amazon_reduit.rename(columns = {'reviewText':'text'}, inplace = True)\n",
        "amazon_reduit.rename(columns = {'overall':'rating'}, inplace = True)\n",
        "amazon_reduit[:3]"
      ],
      "execution_count": null,
      "outputs": [
        {
          "output_type": "stream",
          "text": [
            "/usr/local/lib/python3.7/dist-packages/pandas/core/frame.py:4308: SettingWithCopyWarning: \n",
            "A value is trying to be set on a copy of a slice from a DataFrame\n",
            "\n",
            "See the caveats in the documentation: https://pandas.pydata.org/pandas-docs/stable/user_guide/indexing.html#returning-a-view-versus-a-copy\n",
            "  errors=errors,\n"
          ],
          "name": "stderr"
        },
        {
          "output_type": "execute_result",
          "data": {
            "text/html": [
              "<div>\n",
              "<style scoped>\n",
              "    .dataframe tbody tr th:only-of-type {\n",
              "        vertical-align: middle;\n",
              "    }\n",
              "\n",
              "    .dataframe tbody tr th {\n",
              "        vertical-align: top;\n",
              "    }\n",
              "\n",
              "    .dataframe thead th {\n",
              "        text-align: right;\n",
              "    }\n",
              "</style>\n",
              "<table border=\"1\" class=\"dataframe\">\n",
              "  <thead>\n",
              "    <tr style=\"text-align: right;\">\n",
              "      <th></th>\n",
              "      <th>user_id</th>\n",
              "      <th>item_id</th>\n",
              "      <th>text</th>\n",
              "      <th>rating</th>\n",
              "    </tr>\n",
              "  </thead>\n",
              "  <tbody>\n",
              "    <tr>\n",
              "      <th>0</th>\n",
              "      <td>A2HD75EMZR8QLN</td>\n",
              "      <td>0700099867</td>\n",
              "      <td>Installing the game was a struggle (because of...</td>\n",
              "      <td>1</td>\n",
              "    </tr>\n",
              "    <tr>\n",
              "      <th>1</th>\n",
              "      <td>A3UR8NLLY1ZHCX</td>\n",
              "      <td>0700099867</td>\n",
              "      <td>If you like rally cars get this game you will ...</td>\n",
              "      <td>4</td>\n",
              "    </tr>\n",
              "    <tr>\n",
              "      <th>2</th>\n",
              "      <td>A1INA0F5CWW3J4</td>\n",
              "      <td>0700099867</td>\n",
              "      <td>1st shipment received a book instead of the ga...</td>\n",
              "      <td>1</td>\n",
              "    </tr>\n",
              "  </tbody>\n",
              "</table>\n",
              "</div>"
            ],
            "text/plain": [
              "          user_id  ... rating\n",
              "0  A2HD75EMZR8QLN  ...      1\n",
              "1  A3UR8NLLY1ZHCX  ...      4\n",
              "2  A1INA0F5CWW3J4  ...      1\n",
              "\n",
              "[3 rows x 4 columns]"
            ]
          },
          "metadata": {
            "tags": []
          },
          "execution_count": 10
        }
      ]
    },
    {
      "cell_type": "markdown",
      "metadata": {
        "id": "Guvds80HRPd5"
      },
      "source": [
        "##Coder les ids"
      ]
    },
    {
      "cell_type": "code",
      "metadata": {
        "id": "u4Jj-fyKUYRG"
      },
      "source": [
        "amazon_ratings_columns = ['user_id','item_id','rating']\n",
        "amazon_reviews_columns = ['user_id','item_id','text']\n",
        "amazon_full_dataset_columns = ['user_id','item_id','text','rating']\n",
        "\n",
        "amazon_sort_ids=amazon_reduit.copy()\n",
        "\n",
        "#codifier les id\n",
        "amazon_sort_ids.user_id = amazon_reduit.user_id.astype('category').cat.codes.values\n",
        "amazon_sort_ids.item_id = amazon_reduit.item_id.astype('category').cat.codes.values\n",
        "\n",
        "#Df ratings avec id encodé et organisés\n",
        "amazon_ratings = amazon_sort_ids[amazon_ratings_columns]\n",
        "amazon_ratings = amazon_ratings.drop_duplicates()\n",
        "amazon_ratings = amazon_ratings.sort_values(by=['user_id','item_id'])\n",
        "\n",
        "\n",
        "#Df reviews avec id encodé et organisés\n",
        "amazon_reviews = amazon_sort_ids[amazon_reviews_columns]\n",
        "amazon_reviews = amazon_reviews.drop_duplicates()\n",
        "amazon_reviews = amazon_reviews.sort_values(by=['user_id','item_id'])\n",
        "\n",
        "\n",
        "#Df total avec id encodé et organisés\n",
        "amazon_full_dataset = amazon_sort_ids[amazon_full_dataset_columns]\n",
        "amazon_full_dataset = amazon_full_dataset.drop_duplicates()\n",
        "amazon_full_dataset = amazon_full_dataset.sort_values(by=['user_id','item_id'])\n",
        "\n",
        "\n",
        "amazon_ratings.reset_index(drop=True,inplace = True)\n",
        "amazon_reviews.reset_index(drop=True,inplace = True)\n",
        "amazon_full_dataset.reset_index(drop=True,inplace = True)\n",
        "\n",
        "amazon_ratings.to_csv('/content/drive/MyDrive/fichiers Csv/Datasets amazon avec ids sorted/not cleaned/amazon_ratings.csv', sep='|', index=False,header = True)\n",
        "amazon_reviews.to_csv('/content/drive/MyDrive/fichiers Csv/Datasets amazon avec ids sorted/not cleaned/amazon_reviews.csv', sep='|', index=False,header = True)\n",
        "amazon_full_dataset.to_csv('/content/drive/MyDrive/fichiers Csv/Datasets amazon avec ids sorted/not cleaned/amazon_full_dataset.csv', sep='|', index=False,header = True)\n"
      ],
      "execution_count": null,
      "outputs": []
    },
    {
      "cell_type": "code",
      "metadata": {
        "colab": {
          "base_uri": "https://localhost:8080/",
          "height": 133
        },
        "id": "y_xGzwAhTLwk",
        "outputId": "0fc4486d-0461-4a72-aafc-63f8024a6df0"
      },
      "source": [
        "amazon_ratings[:3]"
      ],
      "execution_count": null,
      "outputs": [
        {
          "output_type": "execute_result",
          "data": {
            "text/html": [
              "<div>\n",
              "<style scoped>\n",
              "    .dataframe tbody tr th:only-of-type {\n",
              "        vertical-align: middle;\n",
              "    }\n",
              "\n",
              "    .dataframe tbody tr th {\n",
              "        vertical-align: top;\n",
              "    }\n",
              "\n",
              "    .dataframe thead th {\n",
              "        text-align: right;\n",
              "    }\n",
              "</style>\n",
              "<table border=\"1\" class=\"dataframe\">\n",
              "  <thead>\n",
              "    <tr style=\"text-align: right;\">\n",
              "      <th></th>\n",
              "      <th>user_id</th>\n",
              "      <th>item_id</th>\n",
              "      <th>rating</th>\n",
              "    </tr>\n",
              "  </thead>\n",
              "  <tbody>\n",
              "    <tr>\n",
              "      <th>0</th>\n",
              "      <td>0</td>\n",
              "      <td>9656</td>\n",
              "      <td>5</td>\n",
              "    </tr>\n",
              "    <tr>\n",
              "      <th>1</th>\n",
              "      <td>0</td>\n",
              "      <td>9658</td>\n",
              "      <td>5</td>\n",
              "    </tr>\n",
              "    <tr>\n",
              "      <th>2</th>\n",
              "      <td>0</td>\n",
              "      <td>9664</td>\n",
              "      <td>5</td>\n",
              "    </tr>\n",
              "  </tbody>\n",
              "</table>\n",
              "</div>"
            ],
            "text/plain": [
              "   user_id  item_id  rating\n",
              "0        0     9656       5\n",
              "1        0     9658       5\n",
              "2        0     9664       5"
            ]
          },
          "metadata": {
            "tags": []
          },
          "execution_count": 28
        }
      ]
    },
    {
      "cell_type": "code",
      "metadata": {
        "colab": {
          "base_uri": "https://localhost:8080/",
          "height": 133
        },
        "id": "P0vmJa7uWWKn",
        "outputId": "2b456ef6-5bde-46b3-84e0-723a56e4b24c"
      },
      "source": [
        "amazon_reviews[:3]"
      ],
      "execution_count": null,
      "outputs": [
        {
          "output_type": "execute_result",
          "data": {
            "text/html": [
              "<div>\n",
              "<style scoped>\n",
              "    .dataframe tbody tr th:only-of-type {\n",
              "        vertical-align: middle;\n",
              "    }\n",
              "\n",
              "    .dataframe tbody tr th {\n",
              "        vertical-align: top;\n",
              "    }\n",
              "\n",
              "    .dataframe thead th {\n",
              "        text-align: right;\n",
              "    }\n",
              "</style>\n",
              "<table border=\"1\" class=\"dataframe\">\n",
              "  <thead>\n",
              "    <tr style=\"text-align: right;\">\n",
              "      <th></th>\n",
              "      <th>user_id</th>\n",
              "      <th>item_id</th>\n",
              "      <th>text</th>\n",
              "    </tr>\n",
              "  </thead>\n",
              "  <tbody>\n",
              "    <tr>\n",
              "      <th>0</th>\n",
              "      <td>0</td>\n",
              "      <td>9656</td>\n",
              "      <td>A highly known skylander in all of the skyland...</td>\n",
              "    </tr>\n",
              "    <tr>\n",
              "      <th>1</th>\n",
              "      <td>0</td>\n",
              "      <td>9658</td>\n",
              "      <td>Chill is a water skylander, which means she ca...</td>\n",
              "    </tr>\n",
              "    <tr>\n",
              "      <th>2</th>\n",
              "      <td>0</td>\n",
              "      <td>9664</td>\n",
              "      <td>Pop Fizz, an alchemist in potions is powerful....</td>\n",
              "    </tr>\n",
              "  </tbody>\n",
              "</table>\n",
              "</div>"
            ],
            "text/plain": [
              "   user_id  item_id                                               text\n",
              "0        0     9656  A highly known skylander in all of the skyland...\n",
              "1        0     9658  Chill is a water skylander, which means she ca...\n",
              "2        0     9664  Pop Fizz, an alchemist in potions is powerful...."
            ]
          },
          "metadata": {
            "tags": []
          },
          "execution_count": 29
        }
      ]
    },
    {
      "cell_type": "code",
      "metadata": {
        "colab": {
          "base_uri": "https://localhost:8080/",
          "height": 133
        },
        "id": "j3M-8OsdWXV6",
        "outputId": "b3b2c536-9c3b-4b0a-ee58-e947cf0d1bd9"
      },
      "source": [
        "amazon_full_dataset[:3]"
      ],
      "execution_count": null,
      "outputs": [
        {
          "output_type": "execute_result",
          "data": {
            "text/html": [
              "<div>\n",
              "<style scoped>\n",
              "    .dataframe tbody tr th:only-of-type {\n",
              "        vertical-align: middle;\n",
              "    }\n",
              "\n",
              "    .dataframe tbody tr th {\n",
              "        vertical-align: top;\n",
              "    }\n",
              "\n",
              "    .dataframe thead th {\n",
              "        text-align: right;\n",
              "    }\n",
              "</style>\n",
              "<table border=\"1\" class=\"dataframe\">\n",
              "  <thead>\n",
              "    <tr style=\"text-align: right;\">\n",
              "      <th></th>\n",
              "      <th>user_id</th>\n",
              "      <th>item_id</th>\n",
              "      <th>text</th>\n",
              "      <th>rating</th>\n",
              "    </tr>\n",
              "  </thead>\n",
              "  <tbody>\n",
              "    <tr>\n",
              "      <th>0</th>\n",
              "      <td>0</td>\n",
              "      <td>9656</td>\n",
              "      <td>A highly known skylander in all of the skyland...</td>\n",
              "      <td>5</td>\n",
              "    </tr>\n",
              "    <tr>\n",
              "      <th>1</th>\n",
              "      <td>0</td>\n",
              "      <td>9658</td>\n",
              "      <td>Chill is a water skylander, which means she ca...</td>\n",
              "      <td>5</td>\n",
              "    </tr>\n",
              "    <tr>\n",
              "      <th>2</th>\n",
              "      <td>0</td>\n",
              "      <td>9664</td>\n",
              "      <td>Pop Fizz, an alchemist in potions is powerful....</td>\n",
              "      <td>5</td>\n",
              "    </tr>\n",
              "  </tbody>\n",
              "</table>\n",
              "</div>"
            ],
            "text/plain": [
              "   user_id  item_id                                               text  rating\n",
              "0        0     9656  A highly known skylander in all of the skyland...       5\n",
              "1        0     9658  Chill is a water skylander, which means she ca...       5\n",
              "2        0     9664  Pop Fizz, an alchemist in potions is powerful....       5"
            ]
          },
          "metadata": {
            "tags": []
          },
          "execution_count": 30
        }
      ]
    },
    {
      "cell_type": "markdown",
      "metadata": {
        "id": "qT20qQn-RYGy"
      },
      "source": [
        "##Cleaning text"
      ]
    },
    {
      "cell_type": "code",
      "metadata": {
        "id": "9YaXTtWLfVuf"
      },
      "source": [
        "amazon_ratings=pd.read_csv('/content/drive/MyDrive/fichiers Csv/Datasets amazon avec ids sorted/not cleaned/amazon_ratings.csv', delimiter='|')\n",
        "amazon_reviews=pd.read_csv('/content/drive/MyDrive/fichiers Csv/Datasets amazon avec ids sorted/not cleaned/amazon_reviews.csv', delimiter='|')\n",
        "amazon_full_dataset=pd.read_csv('/content/drive/MyDrive/fichiers Csv/Datasets amazon avec ids sorted/not cleaned/amazon_full_dataset.csv', delimiter='|')"
      ],
      "execution_count": null,
      "outputs": []
    },
    {
      "cell_type": "code",
      "metadata": {
        "colab": {
          "base_uri": "https://localhost:8080/",
          "height": 100
        },
        "id": "xFM-fcXYf1MI",
        "outputId": "2740e9dd-26f4-42a5-929a-20c8b24089f7"
      },
      "source": [
        "import pandas as pd\n",
        "import re\n",
        "from tqdm import tqdm\n",
        "import nltk\n",
        "\n",
        "from nltk.tokenize import word_tokenize\n",
        "nltk.download('punkt')\n",
        "\n",
        "from nltk.corpus import stopwords\n",
        "nltk.download('stopwords')\n",
        "\n",
        "\"\"\"\n",
        "import gensim\n",
        "from gensim.models import Word2Vec\n",
        "import os\"\"\""
      ],
      "execution_count": null,
      "outputs": [
        {
          "output_type": "stream",
          "text": [
            "[nltk_data] Downloading package punkt to /root/nltk_data...\n",
            "[nltk_data]   Package punkt is already up-to-date!\n",
            "[nltk_data] Downloading package stopwords to /root/nltk_data...\n",
            "[nltk_data]   Package stopwords is already up-to-date!\n"
          ],
          "name": "stdout"
        },
        {
          "output_type": "execute_result",
          "data": {
            "application/vnd.google.colaboratory.intrinsic+json": {
              "type": "string"
            },
            "text/plain": [
              "'\\nimport gensim\\nfrom gensim.models import Word2Vec\\nimport os'"
            ]
          },
          "metadata": {
            "tags": []
          },
          "execution_count": 69
        }
      ]
    },
    {
      "cell_type": "code",
      "metadata": {
        "id": "zausXNNrgWa2"
      },
      "source": [
        "str_values = amazon_full_dataset.text.apply(lambda x: type(x) == str)\n",
        "amazon_dataset=amazon_full_dataset[str_values]\n",
        "\n",
        "amazon_dataset=amazon_dataset.iloc[:131248]\n",
        "amazon_dataset.reset_index(drop=True,inplace = True)"
      ],
      "execution_count": null,
      "outputs": []
    },
    {
      "cell_type": "code",
      "metadata": {
        "id": "n9ZR-MUJgHjF"
      },
      "source": [
        "#fonction pour nettoyer le texte donné en entrée\n",
        "def cleaning_text(text) :\n",
        "  test_sentenceSansEsp = re.sub(\"\\s+\",\" \", text)\n",
        "\n",
        "  #Removing extra spaces with regexp\n",
        "  appos = {\n",
        "  \"aren't\" : \"are not\",\n",
        "  \"can't\" : \"cannot\",\n",
        "  \"couldn't\" : \"could not\",\n",
        "  \"didn't\" : \"did not\",\n",
        "  \"doesn't\" : \"does not\",\n",
        "  \"don't\" : \"do not\",\n",
        "  \"hadn't\" : \"had not\",\n",
        "  \"hasn't\" : \"has not\",\n",
        "  \"haven't\" : \"have not\",\n",
        "  \"he'd\" : \"he would\",\n",
        "  \"he'll\" : \"he will\",\n",
        "  \"he's\" : \"he is\",\n",
        "  \"i'd\" : \"I would\",\n",
        "  \"i'd\" : \"I had\",\n",
        "  \"i'll\" : \"I will\",\n",
        "  \"i'm\" : \"I am\",\n",
        "  \"isn't\" : \"is not\",\n",
        "  \"it's\" : \"it is\",\n",
        "  \"it'll\":\"it will\",\n",
        "  \"i've\" : \"I have\",\n",
        "  \"let's\" : \"let us\",\n",
        "  \"mightn't\" : \"might not\",\n",
        "  \"mustn't\" : \"must not\",\n",
        "  \"shan't\" : \"shall not\",\n",
        "  \"she'd\" : \"she would\",\n",
        "  \"she'll\" : \"she will\",\n",
        "  \"she's\" : \"she is\",\n",
        "  \"shouldn't\" : \"should not\",\n",
        "  \"that's\" : \"that is\",\n",
        "  \"there's\" : \"there is\",\n",
        "  \"they'd\" : \"they would\",\n",
        "  \"they'll\" : \"they will\",\n",
        "  \"they're\" : \"they are\",\n",
        "  \"they've\" : \"they have\",\n",
        "  \"we'd\" : \"we would\",\n",
        "  \"we're\" : \"we are\",\n",
        "  \"weren't\" : \"were not\",\n",
        "  \"we've\" : \"we have\",\n",
        "  \"what'll\" : \"what will\",\n",
        "  \"what're\" : \"what are\",\n",
        "  \"what's\" : \"what is\",\n",
        "  \"what've\" : \"what have\",\n",
        "  \"where's\" : \"where is\",\n",
        "  \"who'd\" : \"who would\",\n",
        "  \"who'll\" : \"who will\",\n",
        "  \"who're\" : \"who are\",\n",
        "  \"who's\" : \"who is\",\n",
        "  \"who've\" : \"who have\",\n",
        "  \"won't\" : \"will not\",\n",
        "  \"wouldn't\" : \"would not\",\n",
        "  \"you'd\" : \"you would\",\n",
        "  \"you'll\" : \"you will\",\n",
        "  \"you're\" : \"you are\",\n",
        "  \"you've\" : \"you have\",\n",
        "  \"'re\": \" are\",\n",
        "  \"wasn't\": \"was not\",\n",
        "  \"we'll\":\"we will\",\n",
        "  \"didn't\": \"did not\"\n",
        "  }\n",
        "  words = test_sentenceSansEsp.split()\n",
        "  test_sentenceReformed = [appos[word] if word in appos else word for word in words]\n",
        "  test_sentenceReformed = \" \".join(test_sentenceReformed) \n",
        "\n",
        "  #rendre le texte en minuscule\n",
        "  test_sentenceMinuscule = test_sentenceReformed.lower()\n",
        "  \n",
        "  #tokenzing (transformer la phrase en liste de mots)\n",
        "  test_sentenceTokens = word_tokenize(test_sentenceMinuscule)\n",
        "\n",
        "  #Ne garder que les mots (sup les nombre, ponctuation ...)\n",
        "  test_sentenceAlphab = [word for word in test_sentenceTokens if word.isalpha()]\n",
        "\n",
        "  #personaliser sa liste de stop words a supprimer\n",
        "  stop_words = stopwords.words('english')\n",
        "  negWords=['no','nor','not']\n",
        "  stop_words_sansNegation=[]\n",
        "\n",
        "  for w in stop_words :\n",
        "    if(w not in negWords):\n",
        "      stop_words_sansNegation.append(w)\n",
        "\n",
        "  #supprimer les stop words\n",
        "  test_sentenceSansStopWords= [i for i in test_sentenceAlphab if i not in stop_words_sansNegation]\n",
        "  text_cleaned=' '.join(word for word in test_sentenceSansStopWords)\n",
        "  \n",
        "  return text_cleaned\n",
        "  \n",
        "\n",
        "\n",
        "def cleaning_text_df(df_col) :\n",
        "  emb=[]\n",
        "  for text in tqdm(df_col) :\n",
        "    emb.append(cleaning_text(text))\n",
        "  \n",
        "  return emb"
      ],
      "execution_count": null,
      "outputs": []
    },
    {
      "cell_type": "code",
      "metadata": {
        "colab": {
          "base_uri": "https://localhost:8080/",
          "height": 391
        },
        "id": "Xu8hiZkMgOIQ",
        "outputId": "54978550-5ab6-4299-8bb8-c45a0d2792ce"
      },
      "source": [
        "#nettoyer les reviews dans le dataset\n",
        "for i in range(amazon_dataset.shape[0]):\n",
        "  amazon_dataset.iloc[i,2]=cleaning_text(amazon_dataset.iloc[i,2])\n",
        "\n",
        "amazon_dataset"
      ],
      "execution_count": null,
      "outputs": [
        {
          "output_type": "execute_result",
          "data": {
            "text/html": [
              "<div>\n",
              "<style scoped>\n",
              "    .dataframe tbody tr th:only-of-type {\n",
              "        vertical-align: middle;\n",
              "    }\n",
              "\n",
              "    .dataframe tbody tr th {\n",
              "        vertical-align: top;\n",
              "    }\n",
              "\n",
              "    .dataframe thead th {\n",
              "        text-align: right;\n",
              "    }\n",
              "</style>\n",
              "<table border=\"1\" class=\"dataframe\">\n",
              "  <thead>\n",
              "    <tr style=\"text-align: right;\">\n",
              "      <th></th>\n",
              "      <th>user_id</th>\n",
              "      <th>item_id</th>\n",
              "      <th>text</th>\n",
              "      <th>rating</th>\n",
              "    </tr>\n",
              "  </thead>\n",
              "  <tbody>\n",
              "    <tr>\n",
              "      <th>0</th>\n",
              "      <td>0</td>\n",
              "      <td>9656</td>\n",
              "      <td>highly known skylander skylander fans trigger ...</td>\n",
              "      <td>5</td>\n",
              "    </tr>\n",
              "    <tr>\n",
              "      <th>1</th>\n",
              "      <td>0</td>\n",
              "      <td>9658</td>\n",
              "      <td>chill water skylander means swim water unless ...</td>\n",
              "      <td>5</td>\n",
              "    </tr>\n",
              "    <tr>\n",
              "      <th>2</th>\n",
              "      <td>0</td>\n",
              "      <td>9664</td>\n",
              "      <td>pop fizz alchemist potions powerful magic skyl...</td>\n",
              "      <td>5</td>\n",
              "    </tr>\n",
              "    <tr>\n",
              "      <th>3</th>\n",
              "      <td>0</td>\n",
              "      <td>9676</td>\n",
              "      <td>drobot new lightcore character tech not sold l...</td>\n",
              "      <td>1</td>\n",
              "    </tr>\n",
              "    <tr>\n",
              "      <th>4</th>\n",
              "      <td>0</td>\n",
              "      <td>9683</td>\n",
              "      <td>crusher strong sturdy slow even though rocking...</td>\n",
              "      <td>5</td>\n",
              "    </tr>\n",
              "    <tr>\n",
              "      <th>...</th>\n",
              "      <td>...</td>\n",
              "      <td>...</td>\n",
              "      <td>...</td>\n",
              "      <td>...</td>\n",
              "    </tr>\n",
              "    <tr>\n",
              "      <th>131243</th>\n",
              "      <td>13925</td>\n",
              "      <td>6745</td>\n",
              "      <td>simply not fit standard model gently used far ...</td>\n",
              "      <td>1</td>\n",
              "    </tr>\n",
              "    <tr>\n",
              "      <th>131244</th>\n",
              "      <td>13925</td>\n",
              "      <td>6985</td>\n",
              "      <td>used precision instrument gaming general compu...</td>\n",
              "      <td>5</td>\n",
              "    </tr>\n",
              "    <tr>\n",
              "      <th>131245</th>\n",
              "      <td>13926</td>\n",
              "      <td>687</td>\n",
              "      <td>loved size new pstwo still overpriced buy xbox...</td>\n",
              "      <td>1</td>\n",
              "    </tr>\n",
              "    <tr>\n",
              "      <th>131246</th>\n",
              "      <td>13926</td>\n",
              "      <td>1392</td>\n",
              "      <td>game bit short fun played first came still lik...</td>\n",
              "      <td>5</td>\n",
              "    </tr>\n",
              "    <tr>\n",
              "      <th>131247</th>\n",
              "      <td>13926</td>\n",
              "      <td>1502</td>\n",
              "      <td>racing game since released still think best ra...</td>\n",
              "      <td>5</td>\n",
              "    </tr>\n",
              "  </tbody>\n",
              "</table>\n",
              "<p>131248 rows × 4 columns</p>\n",
              "</div>"
            ],
            "text/plain": [
              "        user_id  ...  rating\n",
              "0             0  ...       5\n",
              "1             0  ...       5\n",
              "2             0  ...       5\n",
              "3             0  ...       1\n",
              "4             0  ...       5\n",
              "...         ...  ...     ...\n",
              "131243    13925  ...       1\n",
              "131244    13925  ...       5\n",
              "131245    13926  ...       1\n",
              "131246    13926  ...       5\n",
              "131247    13926  ...       5\n",
              "\n",
              "[131248 rows x 4 columns]"
            ]
          },
          "metadata": {
            "tags": []
          },
          "execution_count": 72
        }
      ]
    },
    {
      "cell_type": "code",
      "metadata": {
        "id": "ZioEo7IRkN-7"
      },
      "source": [
        "amazon_ratings_ceaned=amazon_dataset[['user_id','item_id','rating']]\n",
        "amazon_reviews_ceaned=amazon_dataset[['user_id','item_id','text']]\n",
        "\n",
        "amazon_ratings_ceaned.to_csv('/content/drive/MyDrive/fichiers Csv/Datasets amazon avec ids sorted/cleaned/amazon_ratings_ceaned.csv',sep='|', index=False,header = True)\n",
        "amazon_reviews_ceaned.to_csv('/content/drive/MyDrive/fichiers Csv/Datasets amazon avec ids sorted/cleaned/amazon_reviews_ceaned.csv',sep='|', index=False,header = True)\n",
        "amazon_dataset.to_csv('/content/drive/MyDrive/fichiers Csv/Datasets amazon avec ids sorted/cleaned/amazon_dataset.csv',sep='|', index=False,header = True)\n"
      ],
      "execution_count": null,
      "outputs": []
    }
  ]
}