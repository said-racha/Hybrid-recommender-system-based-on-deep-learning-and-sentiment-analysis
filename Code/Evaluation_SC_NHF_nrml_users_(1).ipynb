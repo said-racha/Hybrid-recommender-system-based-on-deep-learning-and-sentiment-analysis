{
  "nbformat": 4,
  "nbformat_minor": 0,
  "metadata": {
    "colab": {
      "name": "Evaluation_SC_NHF_nrml_users (1).ipynb",
      "provenance": [],
      "collapsed_sections": [],
      "include_colab_link": true
    },
    "kernelspec": {
      "name": "python3",
      "display_name": "Python 3"
    },
    "language_info": {
      "name": "python"
    },
    "accelerator": "GPU"
  },
  "cells": [
    {
      "cell_type": "markdown",
      "metadata": {
        "id": "view-in-github",
        "colab_type": "text"
      },
      "source": [
        "<a href=\"https://colab.research.google.com/github/said-racha/Hybrid-recommender-system-based-on-deep-learning-and-sentiment-analysis/blob/main/Evaluation_SC_NHF_nrml_users_(1).ipynb\" target=\"_parent\"><img src=\"https://colab.research.google.com/assets/colab-badge.svg\" alt=\"Open In Colab\"/></a>"
      ]
    },
    {
      "cell_type": "code",
      "metadata": {
        "colab": {
          "base_uri": "https://localhost:8080/"
        },
        "id": "7L2rAknWWtJq",
        "outputId": "b4b26da8-b5c2-416b-90b0-00392af20425"
      },
      "source": [
        "from google.colab import drive\n",
        "drive.mount('/content/drive')"
      ],
      "execution_count": null,
      "outputs": [
        {
          "output_type": "stream",
          "text": [
            "Drive already mounted at /content/drive; to attempt to forcibly remount, call drive.mount(\"/content/drive\", force_remount=True).\n"
          ],
          "name": "stdout"
        }
      ]
    },
    {
      "cell_type": "markdown",
      "metadata": {
        "id": "5AbODTSzH7Pv"
      },
      "source": [
        "#Traitement pour diviser le Dataset"
      ]
    },
    {
      "cell_type": "code",
      "metadata": {
        "id": "QTjeN14WW3Hy"
      },
      "source": [
        "import tensorflow as tf\n",
        "#from keras.layers import Embedding\n",
        "from tensorflow.keras import Input\n",
        "from keras.layers.core import Flatten\n",
        "from keras.layers import *\n",
        "from keras.models import Model\n",
        "\n",
        "\n",
        "import pandas as pn\n",
        "import numpy as np\n",
        "from sklearn.model_selection import train_test_split\n",
        "\n",
        "\n",
        "def dataset_split(dataset): #normal testset\n",
        "    # Spliting into X and y\n",
        "    X = dataset[['user_id', 'item_id', 'text', 'fans', 'average_stars',\n",
        "       'friends', 'vote_funny', 'useful', 'vote_cool', 'hot', 'more',\n",
        "       'profile', 'cute', 'list', 'note', 'plain', 'cool', 'funny', 'writer',\n",
        "       'photos', 'latitude', 'longitude', 'Breakfast & Brunch',\n",
        "       'American (Traditional)', 'Burgers', 'Fast Food', 'American (New)',\n",
        "       'Chinese', 'Pizza', 'Italian', 'Sandwiches', 'Sushi Bars', 'Japanese',\n",
        "       'Indian', 'Mexican', 'Vietnamese', 'Thai', 'Asian Fusion', 'Take-out',\n",
        "       'Wi-Fi', 'dessert', 'latenight', 'lunch', 'dinner', 'breakfast',\n",
        "       'brunch', 'Caters', 'Noise Level', 'Takes Reservations', 'Delivery',\n",
        "       'romantic', 'intimate', 'touristy', 'hipster', 'divey', 'classy',\n",
        "       'trendy', 'upscale', 'casual', 'Has TV', 'Outdoor Seating', 'Attire',\n",
        "       'Alcohol', 'Waiter Service', 'Accepts Credit Cards', 'Good for Kids',\n",
        "       'Good For Groups', 'Price Range', 'Wheelchair Accessible']]\n",
        "    y = dataset['rating']\n",
        "    #Rendre les ratings en forme de vecteurs [1,0,0,0,0]\n",
        "    y = pn.get_dummies(y).values\n",
        "\n",
        "\n",
        "\n",
        "    # Spliting the dataset for training and testing\n",
        "    X_train, X_test, y_train, y_test = train_test_split(X,\n",
        "                                                        y,\n",
        "                                                        test_size=0.2, \n",
        "                                                        random_state=0)\n",
        "    \n",
        "    return X_train, X_test, y_train, y_test\n",
        "\n",
        "\n",
        "\n",
        "users = pn.read_csv('/content/drive/MyDrive/Apres sorting ids/users_AVecEnc.csv', sep='|')\n",
        "users= users.fillna(0) #filling missing valus\n",
        "\n",
        "items = pn.read_csv('/content/drive/MyDrive/Apres sorting ids/items_AvecEnc.csv', sep='|')\n",
        "\n",
        "reviews_ratings = pn.read_csv('/content/drive/MyDrive/Merge datsets/reviews_ratings_cleaned.csv', sep='|')\n",
        "dataset = pn.merge(reviews_ratings,users, left_on='user_id', right_on='user_id', how='left')\n",
        "dataset=  pn.merge(dataset,items, left_on='item_id', right_on='item_id', how='left')\n",
        "\n",
        "X_train, X_test, y_train, y_test = dataset_split(dataset)\n",
        "\n",
        "\n",
        "num_users = int(max(X_train.user_id.max()+1,X_test.user_id.max()+1))\n",
        "num_items = int(max(X_train.item_id.max()+1,X_test.item_id.max()+1))"
      ],
      "execution_count": null,
      "outputs": []
    },
    {
      "cell_type": "markdown",
      "metadata": {
        "id": "ZojhkHgkJVT7"
      },
      "source": [
        "## Traitement sur le texte"
      ]
    },
    {
      "cell_type": "code",
      "metadata": {
        "colab": {
          "base_uri": "https://localhost:8080/"
        },
        "id": "STg4EdlGW5wQ",
        "outputId": "817a2c18-85e1-4778-96ca-4d3c339cba39"
      },
      "source": [
        "import pandas as pd\n",
        "import tensorflow as tf\n",
        "import keras\n",
        "import re\n",
        "from tqdm import tqdm\n",
        "import nltk\n",
        "\n",
        "from nltk.tokenize import word_tokenize\n",
        "nltk.download('punkt')\n",
        "\n",
        "from nltk.corpus import stopwords\n",
        "nltk.download('stopwords')\n",
        "from keras.preprocessing.text import Tokenizer\n",
        "from keras.preprocessing.sequence import pad_sequences\n",
        "\n",
        "import numpy as np\n",
        "from sklearn.model_selection import train_test_split\n",
        "\n",
        "from gensim.models import KeyedVectors\n",
        "\n",
        "from keras.layers import Embedding\n",
        "\n",
        "import gensim\n",
        "from gensim.models import Word2Vec\n",
        "import os\n",
        "Reviews_sentiment_word2vec=pd.read_csv('/content/drive/MyDrive/Merge datsets/reviews_ratings_cleaned.csv', delimiter='|')\n",
        "\n",
        "\n",
        "def word_embedding(Reviews_sentiment_Word2vec):\n",
        "\n",
        "    #obtenir a partir du df les features et targets à donner au cnn\n",
        "    MAX_NB_WORDS=1000\n",
        "    tokenizer = Tokenizer(num_words=MAX_NB_WORDS)\n",
        "    texts=Reviews_sentiment_Word2vec['text'] #mettre tous les avis dans texts\n",
        "    tokenizer.fit_on_texts(texts)\n",
        "    sequences = tokenizer.texts_to_sequences(texts) #remplacer les mots par leurs index (on obtient pour chaque avis une succession de nombre)\n",
        "    word_index = tokenizer.word_index #dictionnaire de données qui contient tous les mots de nos avis avec pour chacun une valeur correcpondante a son index (l'operration d'indexage et de création du dictionnaire a été effectuée lors de l'appel à la fonction fit_on_texts)\n",
        "\n",
        "    MAX_SEQUENCE_LENGTH=max(Reviews_sentiment_Word2vec.astype('str').applymap(lambda x: len(x)).max())\n",
        "    \n",
        "  \n",
        "    #stoquer les informations (les mots avec leurs vecteur d'embedding correspondant) contenu dans le fichier txt dans un dictionnaire de données nommé embeddings_index\n",
        "    embeddings_index = {}\n",
        "\n",
        "    f = open('/content/drive/MyDrive/random files/model_Word2Vec_pretrained.txt','r')\n",
        "\n",
        "    for line in f:\n",
        "        values = line.split()\n",
        "        word = values[0]\n",
        "        coefs = np.asarray(values[1:], dtype='float32')\n",
        "        embeddings_index[word] = coefs\n",
        "    f.close()\n",
        "\n",
        "\n",
        "    #recuperer les vecteur d'embedding de tous les mots des avis a analyser et les mettre dans une matrice nommée embedding_matrix. Il est a noter que si un mot n'est pas trouver son vecteur sera à 0.\n",
        "    EMBEDDING_DIM=300\n",
        "    embedding_matrix = np.zeros((len(word_index) + 1, EMBEDDING_DIM))\n",
        "    for word, i in word_index.items():\n",
        "        embedding_vector = embeddings_index.get(word) #chercher dans le dictionnaire de donnée embeddings_index le vecteur d'emebedding de chaque \n",
        "        if embedding_vector is not None:\n",
        "            embedding_matrix[i] = embedding_vector\n",
        "    \n",
        "    return len(word_index),EMBEDDING_DIM,embedding_matrix,MAX_SEQUENCE_LENGTH\n",
        "\n",
        "#Reviews_sentiment_word2vec.head()\n",
        "\n",
        "len_word_index,EMBEDDING_DIM,embedding_matrix,MAX_SEQUENCE_LENGTH = word_embedding(Reviews_sentiment_word2vec)"
      ],
      "execution_count": null,
      "outputs": [
        {
          "output_type": "stream",
          "text": [
            "[nltk_data] Downloading package punkt to /root/nltk_data...\n",
            "[nltk_data]   Package punkt is already up-to-date!\n",
            "[nltk_data] Downloading package stopwords to /root/nltk_data...\n",
            "[nltk_data]   Package stopwords is already up-to-date!\n"
          ],
          "name": "stdout"
        }
      ]
    },
    {
      "cell_type": "code",
      "metadata": {
        "id": "JkdS8er-XIJh"
      },
      "source": [
        "#pour pouvoir avoir les data de CNN du train et test set. \n",
        "def load_CNN_Data(X_train,MAX_SEQUENCE_LENGTH):\n",
        "        #obtenir a partir du df les features et targets à donner au cnn\n",
        "    MAX_NB_WORDS=1000\n",
        "    tokenizer = Tokenizer(num_words=MAX_NB_WORDS)\n",
        "    texts=X_train['text'] #mettre tous les avis dans texts\n",
        "\n",
        "    tokenizer.fit_on_texts(texts)\n",
        "    sequences = tokenizer.texts_to_sequences(texts) #remplacer les mots par leurs index (on obtient pour chaque avis une succession de nombre)\n",
        "    word_index = tokenizer.word_index #dictionnaire de données qui contient tous les mots de nos avis avec pour chacun une valeur correcpondante a son index (l'operration d'indexage et de création du dictionnaire a été effectuée lors de l'appel à la fonction fit_on_texts)\n",
        "\n",
        "    data = pad_sequences(sequences, maxlen=MAX_SEQUENCE_LENGTH) #les données que le cnn devra interpreter (features)\n",
        "    return data"
      ],
      "execution_count": null,
      "outputs": []
    },
    {
      "cell_type": "markdown",
      "metadata": {
        "id": "4Eq_OwJzIBx1"
      },
      "source": [
        "#Construction du modele\n",
        "- Fonction qui construit le modele"
      ]
    },
    {
      "cell_type": "code",
      "metadata": {
        "id": "L5f42FIQXTGl"
      },
      "source": [
        "def build_ConvNHF_model(emb_size_hmlp, emb_size_gmf, predictive_factors, num_layers,len_word_index,EMBEDDING_DIM,embedding_matrix,MAX_SEQUENCE_LENGTH ):\n",
        "    input_userID = Input(shape = [1], name = 'user_ID')\n",
        "    input_itemID = Input(shape = [1], name = 'item_ID')\n",
        "\n",
        "    #Yelp\n",
        "    input_userDATA = Input(shape = [17], name = 'user_data') \n",
        "    input_itemDATA = Input(shape = [49], name = 'item_data')\n",
        "    #GMF part\n",
        "    user_latent_factors_GMF = emb_size_gmf\n",
        "    item_latent_factors_GMF = emb_size_gmf\n",
        "\n",
        "    user_emb_GMF = Embedding(num_users, user_latent_factors_GMF, name = 'user_emb_GMF')(input_userID)\n",
        "    item_emb_GMF = Embedding(num_items, item_latent_factors_GMF, name = 'item_emb_GMF')(input_itemID)\n",
        "\n",
        "    flat_u_GMF = Flatten()(user_emb_GMF)\n",
        "    flat_i_GMF = Flatten()(item_emb_GMF)\n",
        "\n",
        "    mul_layer = Multiply()([flat_u_GMF, flat_i_GMF])\n",
        "\n",
        "    #HybMLP part\n",
        "    user_latent_factors_hMLP = emb_size_hmlp\n",
        "    item_latent_factors_hMLP = emb_size_hmlp\n",
        "\n",
        "    user_emb_hMLP = Embedding(num_users, user_latent_factors_hMLP, name= 'user_emb_hMLP')(input_userID)\n",
        "    item_emb_hMLP = Embedding(num_items, item_latent_factors_hMLP, name= 'item_emb_hMLP')(input_itemID)\n",
        "\n",
        "    flat_u_hMLP = Flatten()(user_emb_hMLP)\n",
        "    flat_i_hMLP = Flatten()(item_emb_hMLP)\n",
        "\n",
        "    concat_hMLP = concatenate([flat_u_hMLP, flat_i_hMLP, input_userDATA, input_itemDATA])\n",
        "    layer = concat_hMLP\n",
        "    for l in range(num_layers,0,-1):\n",
        "        layer = Dense(predictive_factors*(2**(l-1)), activation='relu', name= 'layer%d' %(num_layers-l+1))(layer)\n",
        "    #CNN part\n",
        "    input_reviews = Input(shape = (MAX_SEQUENCE_LENGTH,), name = 'reviews_data' )\n",
        "    reviews_emb = Embedding(len_word_index + 1,\n",
        "                                    EMBEDDING_DIM,\n",
        "                                    weights=[embedding_matrix],\n",
        "                                    input_length=MAX_SEQUENCE_LENGTH,\n",
        "                                    trainable=False) (input_reviews)\n",
        "\n",
        "        \n",
        "    cnn_model = Conv1D(32,3,activation=\"relu\") (reviews_emb)\n",
        "    cnn_model = MaxPooling1D(2,2) (cnn_model)\n",
        "    cnn_model = Dropout(0.2) (cnn_model)\n",
        "        \n",
        "    cnn_model =Conv1D(32,3,activation=\"relu\") (cnn_model)\n",
        "    cnn_model = MaxPooling1D(2,2)(cnn_model)\n",
        "    cnn_model = Dropout(0.5) (cnn_model)\n",
        "\n",
        "    feature_Vectors =  Flatten() (cnn_model)\n",
        "\n",
        "    cnn_layer = Dense(12,kernel_regularizer=tf.keras.regularizers.l2(0.01),activation='relu') (feature_Vectors)\n",
        "\n",
        "    #NeuHybMF part\n",
        "    concat_NeuhMF = concatenate([mul_layer,layer])\n",
        "    concat_NeuhSMF = concatenate([concat_NeuhMF,cnn_layer])\n",
        "    out = Dense(5, activation='softmax', name='output')(concat_NeuhSMF)\n",
        "\n",
        "    model = Model([[input_userID, input_userDATA, input_itemID, input_itemDATA],input_reviews], out)\n",
        "    \n",
        "    return model\n"
      ],
      "execution_count": null,
      "outputs": []
    },
    {
      "cell_type": "markdown",
      "metadata": {
        "id": "GhBzpSJ-JKmV"
      },
      "source": [
        "#Entrainement du modele "
      ]
    },
    {
      "cell_type": "markdown",
      "metadata": {
        "id": "vEos1kxbIK7j"
      },
      "source": [
        "- Données d'entrainement"
      ]
    },
    {
      "cell_type": "code",
      "metadata": {
        "id": "G20zHhaKYcdM"
      },
      "source": [
        "train_userID = X_train['user_id']\n",
        "train_userDATA = X_train[['fans','average_stars','friends','vote_funny','useful','vote_cool','hot','more',\n",
        "'profile','cute','list','note','plain','cool','funny','writer','photos']] \n",
        "\n",
        "train_itemID = X_train['item_id']\n",
        "train_itemDATA = X_train[['latitude','longitude','Breakfast & Brunch', 'American (Traditional)', 'Burgers', 'Fast Food', \n",
        "            'American (New)', 'Chinese', 'Pizza', 'Italian', 'Sandwiches', 'Sushi Bars', 'Japanese', \n",
        "            'Indian', 'Mexican', 'Vietnamese', 'Thai', 'Asian Fusion','Take-out', 'Wi-Fi', \n",
        "            'dessert','latenight','lunch','dinner','breakfast','brunch', 'Caters', \n",
        "            'Noise Level','Takes Reservations', 'Delivery', 'romantic','intimate','touristy',\n",
        "            'hipster','divey','classy','trendy','upscale','casual',\n",
        "            'Has TV','Outdoor Seating', 'Attire', 'Alcohol', 'Waiter Service', \n",
        "            'Accepts Credit Cards', 'Good for Kids', 'Good For Groups', \n",
        "            'Price Range', 'Wheelchair Accessible']]\n",
        "\n",
        "train_y = y_train\n"
      ],
      "execution_count": null,
      "outputs": []
    },
    {
      "cell_type": "code",
      "metadata": {
        "id": "PqKkp11jr55B"
      },
      "source": [
        "train_reviews = load_CNN_Data(X_train,MAX_SEQUENCE_LENGTH)"
      ],
      "execution_count": null,
      "outputs": []
    },
    {
      "cell_type": "code",
      "metadata": {
        "id": "nYRj_muos1wi"
      },
      "source": [
        "test_reviews = load_CNN_Data(X_test,MAX_SEQUENCE_LENGTH)"
      ],
      "execution_count": null,
      "outputs": []
    },
    {
      "cell_type": "markdown",
      "metadata": {
        "id": "6ZdMdH1AHZu7"
      },
      "source": [
        "- Entrainement du modele "
      ]
    },
    {
      "cell_type": "code",
      "metadata": {
        "id": "jdacRLLNXWRW"
      },
      "source": [
        "from tensorflow import keras\n",
        "from tensorflow.keras import layers\n",
        "from keras.callbacks import EarlyStopping\n",
        "callback = tf.keras.callbacks.EarlyStopping(monitor='root_mean_squared_error', patience=2,restore_best_weights=True)\n",
        "LR=0.00000001\n",
        "opt = keras.optimizers.Adam(learning_rate=LR)\n",
        "num_emb_mlp=8\n",
        "num_emb_gmf=8\n",
        "PF=16\n",
        "MLPLAYERS=10\n",
        "ConvNHF=build_ConvNHF_model(num_emb_gmf, num_emb_gmf, PF, MLPLAYERS,len_word_index,EMBEDDING_DIM,embedding_matrix,MAX_SEQUENCE_LENGTH)\n",
        "\n",
        "\n",
        "\n",
        "ConvNHF.compile(optimizer = opt, loss = 'mae', \n",
        "         metrics =[tf.keras.metrics.RootMeanSquaredError()])\n",
        "\n",
        "num_epochs=20\n",
        "history = ConvNHF.fit([[train_userID,train_userDATA,train_itemID,train_itemDATA],train_reviews], train_y, batch_size = 256 , epochs = num_epochs,validation_split=0.2, callbacks=[callback])\n"
      ],
      "execution_count": null,
      "outputs": []
    },
    {
      "cell_type": "markdown",
      "metadata": {
        "id": "sfcf9T2-JO1y"
      },
      "source": [
        "#Evaluation du modele"
      ]
    },
    {
      "cell_type": "markdown",
      "metadata": {
        "id": "23IbCaCgHg_Z"
      },
      "source": [
        "- Données de test pour l'evaluation"
      ]
    },
    {
      "cell_type": "code",
      "metadata": {
        "id": "w2yptdGbsdMj"
      },
      "source": [
        "test_userID = X_test['user_id']\n",
        "test_userDATA = X_test[['fans','average_stars','friends','vote_funny','useful','vote_cool','hot','more',\n",
        "'profile','cute','list','note','plain','cool','funny','writer','photos']] \n",
        "\n",
        "test_itemID = X_test['item_id']\n",
        "test_itemDATA = X_test[['latitude','longitude','Breakfast & Brunch', 'American (Traditional)', 'Burgers', 'Fast Food', \n",
        "            'American (New)', 'Chinese', 'Pizza', 'Italian', 'Sandwiches', 'Sushi Bars', 'Japanese', \n",
        "            'Indian', 'Mexican', 'Vietnamese', 'Thai', 'Asian Fusion','Take-out', 'Wi-Fi', \n",
        "            'dessert','latenight','lunch','dinner','breakfast','brunch', 'Caters', \n",
        "            'Noise Level','Takes Reservations', 'Delivery', 'romantic','intimate','touristy',\n",
        "            'hipster','divey','classy','trendy','upscale','casual',\n",
        "            'Has TV','Outdoor Seating', 'Attire', 'Alcohol', 'Waiter Service', \n",
        "            'Accepts Credit Cards', 'Good for Kids', 'Good For Groups', \n",
        "            'Price Range', 'Wheelchair Accessible']]\n",
        "\n"
      ],
      "execution_count": null,
      "outputs": []
    },
    {
      "cell_type": "code",
      "metadata": {
        "id": "gZ4iHXEDsWp4"
      },
      "source": [
        "scores=ConvNHF.evaluate([[test_userID,test_userDATA,test_itemID,test_itemDATA],test_reviews],y_test,verbose=0)"
      ],
      "execution_count": null,
      "outputs": []
    },
    {
      "cell_type": "markdown",
      "metadata": {
        "id": "cu-RVWkxHsn6"
      },
      "source": [
        "- Evaluation"
      ]
    },
    {
      "cell_type": "code",
      "metadata": {
        "colab": {
          "base_uri": "https://localhost:8080/"
        },
        "id": "1S5VSTCGwodN",
        "outputId": "0072319b-94d2-4e91-8016-dfae1b111421"
      },
      "source": [
        "print(' RMSE = %.4f'%scores[1])"
      ],
      "execution_count": null,
      "outputs": [
        {
          "output_type": "stream",
          "text": [
            " RMSE = 0.4021\n"
          ],
          "name": "stdout"
        }
      ]
    },
    {
      "cell_type": "markdown",
      "metadata": {
        "id": "m0IZG9-AJbP7"
      },
      "source": [
        "#Affichage des graphes d'evaluation du modele "
      ]
    },
    {
      "cell_type": "markdown",
      "metadata": {
        "id": "oT4NuGaHHxaD"
      },
      "source": [
        "- Code pour afficher le graphe"
      ]
    },
    {
      "cell_type": "code",
      "metadata": {
        "id": "O8A5TzaViEHY"
      },
      "source": [
        "import matplotlib.pyplot as plt\n",
        "def plot_history(history):\n",
        "  acc = history.history['root_mean_squared_error']\n",
        "  val_acc=history.history['val_root_mean_squared_error']\n",
        "  loss = history.history['loss']\n",
        "  val_loss=history.history['val_loss']\n",
        "  epochs = range(1,len(acc)+1)\n",
        "\n",
        "  plt.plot(epochs,acc,'b',label='Training RMSE')\n",
        "  plt.plot(epochs,val_acc,'r',label='Validation RMSE')\n",
        "  plt.title('Training and validation RMSE')\n",
        "  plt.legend()\n",
        "  plt.figure()\n",
        "  plt.plot(epochs,loss,'b',label='Training MAE')\n",
        "  plt.plot(epochs,val_loss,'r',label='Validation MAE')\n",
        "  plt.title('Training and validation MAE')\n",
        "  plt.legend()\n",
        "  plt.show()"
      ],
      "execution_count": null,
      "outputs": []
    },
    {
      "cell_type": "code",
      "metadata": {
        "colab": {
          "base_uri": "https://localhost:8080/",
          "height": 545
        },
        "id": "m1VGd48lXobz",
        "outputId": "b8db6c4e-7ff3-4368-c130-2d2ec751597d"
      },
      "source": [
        "plot_history(history)"
      ],
      "execution_count": null,
      "outputs": [
        {
          "output_type": "display_data",
          "data": {
            "image/png": "[encoded data removed]",
            "text/plain": [
              "<Figure size 432x288 with 1 Axes>"
            ]
          },
          "metadata": {
            "tags": [],
            "needs_background": "light"
          }
        },
        {
          "output_type": "display_data",
          "data": {
            "image/png": "[encoded data removed]",
            "text/plain": [
              "<Figure size 432x288 with 1 Axes>"
            ]
          },
          "metadata": {
            "tags": [],
            "needs_background": "light"
          }
        }
      ]
    },
    {
      "cell_type": "code",
      "metadata": {
        "id": "Av4J9nqCXrnX"
      },
      "source": [
        "import pickle\n",
        "\n",
        "def save_obj(obj,path):\n",
        "    with open(path+'.pkl', 'wb') as f:\n",
        "        pickle.dump(obj, f, pickle.HIGHEST_PROTOCOL)\n",
        "path_epochs= 'EPOCHS %d '%(num_epochs)\n",
        "path_MLP_layers='LAYERS %d' %(MLPLAYERS)\n",
        "path_LR='LR %12.f'%(LR*100)\n",
        "def save_model(path_MLP_layers,path_epochs,path_LR):\n",
        "  path = '/content/drive/MyDrive/Evaluation Models/ConvHyb/Notre modèle /'\n",
        "  version='W/O dense'\n",
        "  ConvNHF.save(path+' '+'ConvNHF' +' '+ version+  ' ' +path_epochs+ ' ' +path_MLP_layers+' '+path_LR+'.h5', overwrite = True)\n",
        "  np.save(path+' '+'ConvNHF' +' '+ version+  ' ' +path_epochs+ ' ' +path_MLP_layers+' '+path_LR+'.npy',history.history)\n",
        "  save_obj(scores,path+' '+'ConvNHF' +' '+ version+  ' ' +path_epochs+ ' ' +path_MLP_layers+' '+path_LR)\n"
      ],
      "execution_count": null,
      "outputs": []
    },
    {
      "cell_type": "code",
      "metadata": {
        "colab": {
          "base_uri": "https://localhost:8080/"
        },
        "id": "LJTDCKR18Xn4",
        "outputId": "f1fe4d67-e138-4380-efde-cbf483b1b8b7"
      },
      "source": [
        "save_model(path_MLP_layers,path_epochs,path_LR)"
      ],
      "execution_count": null,
      "outputs": [
        {
          "output_type": "stream",
          "text": [
            "/usr/local/lib/python3.7/dist-packages/keras/utils/generic_utils.py:497: CustomMaskWarning: Custom mask layers require a config and must override get_config. When loading, the custom mask layer must be passed to the custom_objects argument.\n",
            "  category=CustomMaskWarning)\n"
          ],
          "name": "stderr"
        }
      ]
    }
  ]
}
