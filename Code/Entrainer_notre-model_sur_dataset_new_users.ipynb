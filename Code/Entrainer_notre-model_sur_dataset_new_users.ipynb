{
  "nbformat": 4,
  "nbformat_minor": 0,
  "metadata": {
    "colab": {
      "name": "Entrainer SANS Dense notre model sur dataset new users.ipynb",
      "provenance": [],
      "collapsed_sections": [],
      "authorship_tag": "ABX9TyODCOiNKV8enF6hziLFgfYE",
      "include_colab_link": true
    },
    "kernelspec": {
      "name": "python3",
      "display_name": "Python 3"
    },
    "language_info": {
      "name": "python"
    },
    "accelerator": "GPU"
  },
  "cells": [
    {
      "cell_type": "markdown",
      "metadata": {
        "id": "view-in-github",
        "colab_type": "text"
      },
      "source": [
        "<a href=\"https://colab.research.google.com/github/said-racha/Hybrid-recommender-system-based-on-deep-learning-and-sentiment-analysis/blob/main/Entrainer_notre-model_sur_dataset_new_users.ipynb\" target=\"_parent\"><img src=\"https://colab.research.google.com/assets/colab-badge.svg\" alt=\"Open In Colab\"/></a>"
      ]
    },
    {
      "cell_type": "code",
      "metadata": {
        "colab": {
          "base_uri": "https://localhost:8080/"
        },
        "id": "yb8sjFCxBrnW",
        "outputId": "10e57fcb-b800-42f8-b5d6-0de26c71541d"
      },
      "source": [
        "from google.colab import drive\n",
        "drive.mount('/content/drive')"
      ],
      "execution_count": null,
      "outputs": [
        {
          "output_type": "stream",
          "text": [
            "Drive already mounted at /content/drive; to attempt to forcibly remount, call drive.mount(\"/content/drive\", force_remount=True).\n"
          ],
          "name": "stdout"
        }
      ]
    },
    {
      "cell_type": "code",
      "metadata": {
        "id": "pBP_gunwPSwO"
      },
      "source": [
        "\n",
        "import tensorflow as tf\n",
        "#from keras.layers import Embedding\n",
        "from tensorflow.keras import Input\n",
        "from keras.layers.core import Flatten\n",
        "from keras.layers import *\n",
        "from keras.models import Model\n",
        "\n",
        "\n",
        "import pandas as pn\n",
        "import numpy as np\n",
        "from sklearn.model_selection import train_test_split\n",
        "\n",
        "def split_dataset_new_users_surprise(dataset) :\n",
        "  \n",
        "  users = dataset.user_id.unique()\n",
        "  train_users, test_users = train_test_split(users, test_size = 0.2)\n",
        "\n",
        "  train_users=pn.DataFrame(data=train_users,columns=['user_id'])\n",
        "  test_users=pn.DataFrame(data=test_users,columns=['user_id'])\n",
        "\n",
        "  train=pn.merge(dataset,train_users, left_on='user_id', right_on='user_id', how='inner')\n",
        "  test=pn.merge(dataset,test_users, left_on='user_id', right_on='user_id', how='inner')\n",
        "  return train,test\n",
        "\n",
        "\n",
        "def split_dataset_new_users(dataset) :\n",
        "  \n",
        "  users = dataset.user_id.unique()\n",
        "  train_users, test_users = train_test_split(users, test_size = 0.2)\n",
        "\n",
        "  train_users=pn.DataFrame(data=train_users,columns=['user_id'])\n",
        "  test_users=pn.DataFrame(data=test_users,columns=['user_id'])\n",
        "\n",
        "  train=pn.merge(dataset,train_users, left_on='user_id', right_on='user_id', how='inner')\n",
        "  test=pn.merge(dataset,test_users, left_on='user_id', right_on='user_id', how='inner')\n",
        "    \n",
        "  X_train=train[['user_id', 'item_id', 'text', 'fans', 'average_stars',\n",
        "        'friends', 'vote_funny', 'useful', 'vote_cool', 'hot', 'more',\n",
        "        'profile', 'cute', 'list', 'note', 'plain', 'cool', 'funny', 'writer',\n",
        "        'photos', 'latitude', 'longitude', 'Breakfast & Brunch',\n",
        "        'American (Traditional)', 'Burgers', 'Fast Food', 'American (New)',\n",
        "        'Chinese', 'Pizza', 'Italian', 'Sandwiches', 'Sushi Bars', 'Japanese',\n",
        "        'Indian', 'Mexican', 'Vietnamese', 'Thai', 'Asian Fusion', 'Take-out',\n",
        "        'Wi-Fi', 'dessert', 'latenight', 'lunch', 'dinner', 'breakfast',\n",
        "        'brunch', 'Caters', 'Noise Level', 'Takes Reservations', 'Delivery',\n",
        "        'romantic', 'intimate', 'touristy', 'hipster', 'divey', 'classy',\n",
        "        'trendy', 'upscale', 'casual', 'Has TV', 'Outdoor Seating', 'Attire',\n",
        "        'Alcohol', 'Waiter Service', 'Accepts Credit Cards', 'Good for Kids',\n",
        "        'Good For Groups', 'Price Range', 'Wheelchair Accessible']]\n",
        "\n",
        "  y_train=train['rating']\n",
        "  y_train = pn.get_dummies(y_train).values #Rendre les ratings en forme de vecteurs [1,0,0,0,0]\n",
        "\n",
        "\n",
        "  X_test=test[['user_id', 'item_id', 'text', 'fans', 'average_stars',\n",
        "        'friends', 'vote_funny', 'useful', 'vote_cool', 'hot', 'more',\n",
        "        'profile', 'cute', 'list', 'note', 'plain', 'cool', 'funny', 'writer',\n",
        "        'photos', 'latitude', 'longitude', 'Breakfast & Brunch',\n",
        "        'American (Traditional)', 'Burgers', 'Fast Food', 'American (New)',\n",
        "        'Chinese', 'Pizza', 'Italian', 'Sandwiches', 'Sushi Bars', 'Japanese',\n",
        "        'Indian', 'Mexican', 'Vietnamese', 'Thai', 'Asian Fusion', 'Take-out',\n",
        "        'Wi-Fi', 'dessert', 'latenight', 'lunch', 'dinner', 'breakfast',\n",
        "        'brunch', 'Caters', 'Noise Level', 'Takes Reservations', 'Delivery',\n",
        "        'romantic', 'intimate', 'touristy', 'hipster', 'divey', 'classy',\n",
        "        'trendy', 'upscale', 'casual', 'Has TV', 'Outdoor Seating', 'Attire',\n",
        "        'Alcohol', 'Waiter Service', 'Accepts Credit Cards', 'Good for Kids',\n",
        "        'Good For Groups', 'Price Range', 'Wheelchair Accessible']]\n",
        "\n",
        "  y_test=test['rating']\n",
        "  y_test= pn.get_dummies(y_test).values #Rendre les ratings en forme de vecteurs [1,0,0,0,0]\n",
        "\n",
        "  return X_train,X_test,y_train,y_test\n",
        "\n",
        "\n",
        "users = pn.read_csv('/content/drive/MyDrive/Apres sorting ids/users_AVecEnc.csv', sep='|')\n",
        "users= users.fillna(0) #filling missing valus\n",
        "\n",
        "items = pn.read_csv('/content/drive/MyDrive/Apres sorting ids/items_AvecEnc.csv', sep='|')\n",
        "\n",
        "reviews_ratings = pn.read_csv('/content/drive/MyDrive/colab crées/Merge datsets/reviews_ratings_cleaned.csv', sep='|')\n",
        "\n",
        "dataset = pn.merge(reviews_ratings,users, left_on='user_id', right_on='user_id', how='left')\n",
        "dataset=  pn.merge(dataset,items, left_on='item_id', right_on='item_id', how='left')\n",
        "\n",
        "X_train, X_test, y_train, y_test = split_dataset_new_users(dataset)\n",
        "\n",
        "num_users = int(max(X_train.user_id.max()+1,X_test.user_id.max()+1))\n",
        "num_items = int(max(X_train.item_id.max()+1,X_test.item_id.max()+1))"
      ],
      "execution_count": null,
      "outputs": []
    },
    {
      "cell_type": "code",
      "metadata": {
        "id": "rjMTKTiXxVuc"
      },
      "source": [
        "\n",
        "#print(len(X_train),len(X_test), len(y_train),len(y_test))"
      ],
      "execution_count": null,
      "outputs": []
    },
    {
      "cell_type": "markdown",
      "metadata": {
        "id": "agL7MuManZZM"
      },
      "source": [
        "#Creer dataset pr Test avec surprise"
      ]
    },
    {
      "cell_type": "code",
      "metadata": {
        "id": "hC52WdBunAqg"
      },
      "source": [
        "train, test= split_dataset_new_users_surprise(dataset)\n",
        "#train.to_csv('train_new_users.csv', sep='|', index=False,header = True)\n",
        "#test.to_csv('test_new_users.csv', sep='|', index=False,header = True)"
      ],
      "execution_count": null,
      "outputs": []
    },
    {
      "cell_type": "markdown",
      "metadata": {
        "id": "BETqJIv1na0A"
      },
      "source": [
        "#Traitement data + training"
      ]
    },
    {
      "cell_type": "markdown",
      "metadata": {
        "id": "WnVhF8xCr7tz"
      },
      "source": [
        "##Traitement data"
      ]
    },
    {
      "cell_type": "code",
      "metadata": {
        "colab": {
          "base_uri": "https://localhost:8080/"
        },
        "id": "9pUbwbBxCgQp",
        "outputId": "111ec09b-a126-4720-d5e6-562c9fe76898"
      },
      "source": [
        "import pandas as pd\n",
        "import tensorflow as tf\n",
        "import keras\n",
        "import re\n",
        "from tqdm import tqdm\n",
        "import nltk\n",
        "\n",
        "from nltk.tokenize import word_tokenize\n",
        "nltk.download('punkt')\n",
        "\n",
        "from nltk.corpus import stopwords\n",
        "nltk.download('stopwords')\n",
        "from keras.preprocessing.text import Tokenizer\n",
        "from keras.preprocessing.sequence import pad_sequences\n",
        "\n",
        "import numpy as np\n",
        "from sklearn.model_selection import train_test_split\n",
        "\n",
        "from gensim.models import KeyedVectors\n",
        "\n",
        "from keras.layers import Embedding\n",
        "\n",
        "import gensim\n",
        "from gensim.models import Word2Vec\n",
        "import os\n",
        "Reviews_sentiment_word2vec=pd.read_csv('/content/drive/MyDrive/colab crées/Merge datsets/reviews_ratings_cleaned.csv', delimiter='|')\n",
        "\n",
        "\n",
        "def word_embedding(Reviews_sentiment_Word2vec):\n",
        "\n",
        "    #obtenir a partir du df les features et targets à donner au cnn\n",
        "    MAX_NB_WORDS=1000\n",
        "    tokenizer = Tokenizer(num_words=MAX_NB_WORDS)\n",
        "    texts=Reviews_sentiment_Word2vec['text'] #mettre tous les avis dans texts\n",
        "    tokenizer.fit_on_texts(texts)\n",
        "    sequences = tokenizer.texts_to_sequences(texts) #remplacer les mots par leurs index (on obtient pour chaque avis une succession de nombre)\n",
        "    word_index = tokenizer.word_index #dictionnaire de données qui contient tous les mots de nos avis avec pour chacun une valeur correcpondante a son index (l'operration d'indexage et de création du dictionnaire a été effectuée lors de l'appel à la fonction fit_on_texts)\n",
        "\n",
        "    MAX_SEQUENCE_LENGTH=max(Reviews_sentiment_Word2vec.astype('str').applymap(lambda x: len(x)).max())\n",
        "    \n",
        "  \n",
        "    #stoquer les informations (les mots avec leurs vecteur d'embedding correspondant) contenu dans le fichier txt dans un dictionnaire de données nommé embeddings_index\n",
        "    embeddings_index = {}\n",
        "\n",
        "    f = open('/content/drive/MyDrive/random files/model_Word2Vec_pretrained.txt','r')\n",
        "\n",
        "    for line in f:\n",
        "        values = line.split()\n",
        "        word = values[0]\n",
        "        coefs = np.asarray(values[1:], dtype='float32')\n",
        "        embeddings_index[word] = coefs\n",
        "    f.close()\n",
        "\n",
        "\n",
        "    #recuperer les vecteur d'embedding de tous les mots des avis a analyser et les mettre dans une matrice nommée embedding_matrix. Il est a noter que si un mot n'est pas trouver son vecteur sera à 0.\n",
        "    EMBEDDING_DIM=300\n",
        "    embedding_matrix = np.zeros((len(word_index) + 1, EMBEDDING_DIM))\n",
        "    for word, i in word_index.items():\n",
        "        embedding_vector = embeddings_index.get(word) #chercher dans le dictionnaire de donnée embeddings_index le vecteur d'emebedding de chaque \n",
        "        if embedding_vector is not None:\n",
        "            embedding_matrix[i] = embedding_vector\n",
        "    \n",
        "    return len(word_index),EMBEDDING_DIM,embedding_matrix,MAX_SEQUENCE_LENGTH\n",
        "\n",
        "\n",
        "len_word_index,EMBEDDING_DIM,embedding_matrix,MAX_SEQUENCE_LENGTH = word_embedding(Reviews_sentiment_word2vec)"
      ],
      "execution_count": null,
      "outputs": [
        {
          "output_type": "stream",
          "text": [
            "[nltk_data] Downloading package punkt to /root/nltk_data...\n",
            "[nltk_data]   Package punkt is already up-to-date!\n",
            "[nltk_data] Downloading package stopwords to /root/nltk_data...\n",
            "[nltk_data]   Package stopwords is already up-to-date!\n"
          ],
          "name": "stdout"
        }
      ]
    },
    {
      "cell_type": "code",
      "metadata": {
        "id": "bftGXGWOCpAY"
      },
      "source": [
        "#pour pouvoir avoir les data de CNN du train et test set. \n",
        "def load_CNN_Data(X_train,MAX_SEQUENCE_LENGTH):\n",
        "        #obtenir a partir du df les features et targets à donner au cnn\n",
        "    MAX_NB_WORDS=1000\n",
        "    tokenizer = Tokenizer(num_words=MAX_NB_WORDS)\n",
        "    texts=X_train['text'] #mettre tous les avis dans texts\n",
        "\n",
        "    tokenizer.fit_on_texts(texts)\n",
        "    sequences = tokenizer.texts_to_sequences(texts) #remplacer les mots par leurs index (on obtient pour chaque avis une succession de nombre)\n",
        "\n",
        "\n",
        "    word_index = tokenizer.word_index #dictionnaire de données qui contient tous les mots de nos avis avec pour chacun une valeur correcpondante a son index (l'operration d'indexage et de création du dictionnaire a été effectuée lors de l'appel à la fonction fit_on_texts)\n",
        "\n",
        "    data = pad_sequences(sequences, maxlen=MAX_SEQUENCE_LENGTH) #les données que le cnn devra interpreter (features)\n",
        "\n",
        "    return data"
      ],
      "execution_count": null,
      "outputs": []
    },
    {
      "cell_type": "markdown",
      "metadata": {
        "id": "QUccZ8JzsBeq"
      },
      "source": [
        "##Model"
      ]
    },
    {
      "cell_type": "code",
      "metadata": {
        "id": "YrpDPdOuqldl"
      },
      "source": [
        "def build_ConvNHF_model(emb_size_hmlp, emb_size_gmf, predictive_factors, num_layers,len_word_index,EMBEDDING_DIM,embedding_matrix,MAX_SEQUENCE_LENGTH ):\n",
        "    input_userID = Input(shape = [1], name = 'user_ID')\n",
        "    input_itemID = Input(shape = [1], name = 'item_ID')\n",
        "\n",
        "    #Yelp\n",
        "    input_userDATA = Input(shape = [17], name = 'user_data') \n",
        "    input_itemDATA = Input(shape = [49], name = 'item_data')\n",
        "    #GMF part\n",
        "    user_latent_factors_GMF = emb_size_gmf\n",
        "    item_latent_factors_GMF = emb_size_gmf\n",
        "\n",
        "    user_emb_GMF = Embedding(num_users, user_latent_factors_GMF, name = 'user_emb_GMF')(input_userID)\n",
        "    item_emb_GMF = Embedding(num_items, item_latent_factors_GMF, name = 'item_emb_GMF')(input_itemID)\n",
        "\n",
        "    flat_u_GMF = Flatten()(user_emb_GMF)\n",
        "    flat_i_GMF = Flatten()(item_emb_GMF)\n",
        "\n",
        "    mul_layer = Multiply()([flat_u_GMF, flat_i_GMF])\n",
        "\n",
        "    #HybMLP part\n",
        "    user_latent_factors_hMLP = emb_size_hmlp\n",
        "    item_latent_factors_hMLP = emb_size_hmlp\n",
        "\n",
        "    user_emb_hMLP = Embedding(num_users, user_latent_factors_hMLP, name= 'user_emb_hMLP')(input_userID)\n",
        "    item_emb_hMLP = Embedding(num_items, item_latent_factors_hMLP, name= 'item_emb_hMLP')(input_itemID)\n",
        "\n",
        "    flat_u_hMLP = Flatten()(user_emb_hMLP)\n",
        "    flat_i_hMLP = Flatten()(item_emb_hMLP)\n",
        "\n",
        "    concat_hMLP = concatenate([flat_u_hMLP, flat_i_hMLP, input_userDATA, input_itemDATA])\n",
        "    layer = concat_hMLP\n",
        "    for l in range(num_layers,0,-1):\n",
        "        layer = Dense(predictive_factors*(2**(l-1)), activation='relu', name= 'layer%d' %(num_layers-l+1))(layer)\n",
        "    \n",
        "    #CNN part\n",
        "    input_reviews = Input(shape = (MAX_SEQUENCE_LENGTH,), name = 'reviews_data' )\n",
        "    reviews_emb = Embedding(len_word_index + 1,\n",
        "                                    EMBEDDING_DIM,\n",
        "                                    weights=[embedding_matrix],\n",
        "                                    input_length=MAX_SEQUENCE_LENGTH,\n",
        "                                    trainable=False) (input_reviews)\n",
        "\n",
        "        \n",
        "    cnn_model = Conv1D(32,3,activation=\"relu\") (reviews_emb)\n",
        "    cnn_model = MaxPooling1D(2,2) (cnn_model)\n",
        "    cnn_model = Dropout(0.2) (cnn_model)\n",
        "        \n",
        "    cnn_model =Conv1D(32,3,activation=\"relu\") (cnn_model)\n",
        "    cnn_model = MaxPooling1D(2,2)(cnn_model)\n",
        "    cnn_model = Dropout(0.5) (cnn_model)\n",
        "\n",
        "    feature_Vectors =  Flatten() (cnn_model)\n",
        "\n",
        "    cnn_layer = Dense(12,kernel_regularizer=tf.keras.regularizers.l2(0.01),activation='relu') (feature_Vectors)\n",
        "\n",
        "    #NeuHybMF part\n",
        "    concat_NeuhMF = concatenate([mul_layer,layer])\n",
        "    concat_NeuhSMF = concatenate([concat_NeuhMF,cnn_layer])\n",
        "    out = Dense(5, activation='softmax', name='output')(concat_NeuhSMF)\n",
        "\n",
        "    model = Model([[input_userID, input_userDATA, input_itemID, input_itemDATA],input_reviews], out)\n",
        "    \n",
        "    return model\n"
      ],
      "execution_count": null,
      "outputs": []
    },
    {
      "cell_type": "markdown",
      "metadata": {
        "id": "Hi3cqoxosGuF"
      },
      "source": [
        "###Training"
      ]
    },
    {
      "cell_type": "code",
      "metadata": {
        "id": "Mid6s_h3B7Gm"
      },
      "source": [
        "train_userID = X_train['user_id']\n",
        "train_userDATA = X_train[['fans','average_stars','friends','vote_funny','useful','vote_cool','hot','more',\n",
        "'profile','cute','list','note','plain','cool','funny','writer','photos']] \n",
        "\n",
        "train_itemID = X_train['item_id']\n",
        "train_itemDATA = X_train[['latitude','longitude','Breakfast & Brunch', 'American (Traditional)', 'Burgers', 'Fast Food', \n",
        "            'American (New)', 'Chinese', 'Pizza', 'Italian', 'Sandwiches', 'Sushi Bars', 'Japanese', \n",
        "            'Indian', 'Mexican', 'Vietnamese', 'Thai', 'Asian Fusion','Take-out', 'Wi-Fi', \n",
        "            'dessert','latenight','lunch','dinner','breakfast','brunch', 'Caters', \n",
        "            'Noise Level','Takes Reservations', 'Delivery', 'romantic','intimate','touristy',\n",
        "            'hipster','divey','classy','trendy','upscale','casual',\n",
        "            'Has TV','Outdoor Seating', 'Attire', 'Alcohol', 'Waiter Service', \n",
        "            'Accepts Credit Cards', 'Good for Kids', 'Good For Groups', \n",
        "            'Price Range', 'Wheelchair Accessible']]\n",
        "\n",
        "train_y = y_train\n"
      ],
      "execution_count": null,
      "outputs": []
    },
    {
      "cell_type": "code",
      "metadata": {
        "id": "fhdBvX75qrhj"
      },
      "source": [
        "train_reviews = load_CNN_Data(X_train,MAX_SEQUENCE_LENGTH)\n",
        "test_reviews = load_CNN_Data(X_test,MAX_SEQUENCE_LENGTH)"
      ],
      "execution_count": null,
      "outputs": []
    },
    {
      "cell_type": "code",
      "metadata": {
        "colab": {
          "base_uri": "https://localhost:8080/"
        },
        "id": "y72qqqdWqvXE",
        "outputId": "61c0660f-473e-4184-ad0c-b3ffb754d714"
      },
      "source": [
        "from tensorflow import keras\n",
        "from tensorflow.keras import layers\n",
        "from keras.callbacks import EarlyStopping\n",
        "callback = tf.keras.callbacks.EarlyStopping(monitor='root_mean_squared_error', patience=2,restore_best_weights=True)\n",
        "LR=0.00000001\n",
        "opt = keras.optimizers.Adam(learning_rate=LR)\n",
        "num_emb_mlp=8\n",
        "num_emb_gmf=8\n",
        "PF=16\n",
        "MLPLAYERS=10\n",
        "ConvNHF=build_ConvNHF_model(num_emb_gmf, num_emb_gmf, PF, MLPLAYERS,len_word_index,EMBEDDING_DIM,embedding_matrix,MAX_SEQUENCE_LENGTH)\n",
        "\n",
        "\n",
        "\n",
        "ConvNHF.compile(optimizer = opt, loss = 'mae', \n",
        "         metrics =[tf.keras.metrics.RootMeanSquaredError()])\n",
        "\n",
        "num_epochs=20\n",
        "history = ConvNHF.fit([[train_userID,train_userDATA,train_itemID,train_itemDATA],train_reviews], train_y, batch_size = 250 , epochs = num_epochs,validation_split=0.2, callbacks=[callback])\n"
      ],
      "execution_count": null,
      "outputs": [
        {
          "output_type": "stream",
          "text": [
            "Epoch 1/20\n",
            "301/301 [==============================] - 156s 361ms/step - loss: 0.5581 - root_mean_squared_error: 0.4331 - val_loss: 0.5544 - val_root_mean_squared_error: 0.4327\n",
            "Epoch 2/20\n",
            "301/301 [==============================] - 108s 358ms/step - loss: 0.5531 - root_mean_squared_error: 0.4324 - val_loss: 0.5425 - val_root_mean_squared_error: 0.4283\n",
            "Epoch 3/20\n",
            "301/301 [==============================] - 107s 356ms/step - loss: 0.5396 - root_mean_squared_error: 0.4258 - val_loss: 0.5284 - val_root_mean_squared_error: 0.4222\n",
            "Epoch 4/20\n",
            "301/301 [==============================] - 108s 358ms/step - loss: 0.5309 - root_mean_squared_error: 0.4213 - val_loss: 0.5246 - val_root_mean_squared_error: 0.4201\n",
            "Epoch 5/20\n",
            "301/301 [==============================] - 108s 358ms/step - loss: 0.5272 - root_mean_squared_error: 0.4197 - val_loss: 0.5217 - val_root_mean_squared_error: 0.4193\n",
            "Epoch 6/20\n",
            "301/301 [==============================] - 107s 357ms/step - loss: 0.5244 - root_mean_squared_error: 0.4191 - val_loss: 0.5193 - val_root_mean_squared_error: 0.4190\n",
            "Epoch 7/20\n",
            "301/301 [==============================] - 107s 357ms/step - loss: 0.5222 - root_mean_squared_error: 0.4190 - val_loss: 0.5173 - val_root_mean_squared_error: 0.4191\n",
            "Epoch 8/20\n",
            "301/301 [==============================] - 108s 359ms/step - loss: 0.5207 - root_mean_squared_error: 0.4191 - val_loss: 0.5154 - val_root_mean_squared_error: 0.4193\n",
            "Epoch 9/20\n",
            "301/301 [==============================] - 107s 357ms/step - loss: 0.5188 - root_mean_squared_error: 0.4193 - val_loss: 0.5135 - val_root_mean_squared_error: 0.4196\n"
          ],
          "name": "stdout"
        }
      ]
    },
    {
      "cell_type": "markdown",
      "metadata": {
        "id": "5bME5_pksQQt"
      },
      "source": [
        "###Plot"
      ]
    },
    {
      "cell_type": "code",
      "metadata": {
        "id": "bfDU9ruGrH9E"
      },
      "source": [
        "import matplotlib.pyplot as plt\n",
        "def plot_history(history):\n",
        "  acc = history.history['root_mean_squared_error']\n",
        "  val_acc=history.history['val_root_mean_squared_error']\n",
        "  loss = history.history['loss']\n",
        "  val_loss=history.history['val_loss']\n",
        "  epochs = range(1,len(acc)+1)\n",
        "\n",
        "  plt.plot(epochs,acc,'b',label='Training RMSE')\n",
        "  plt.plot(epochs,val_acc,'r',label='Validation RMSE')\n",
        "  plt.title('Training and validation RMSE')\n",
        "  plt.legend()\n",
        "  plt.figure()\n",
        "  plt.plot(epochs,loss,'b',label='Training MAE')\n",
        "  plt.plot(epochs,val_loss,'r',label='Validation MAE')\n",
        "  plt.title('Training and validation MAE')\n",
        "  plt.legend()\n",
        "  plt.show()"
      ],
      "execution_count": null,
      "outputs": []
    },
    {
      "cell_type": "code",
      "metadata": {
        "colab": {
          "base_uri": "https://localhost:8080/",
          "height": 545
        },
        "id": "Lw5VRoRDrTer",
        "outputId": "399de263-25cb-4b44-f587-6d4a4a3836eb"
      },
      "source": [
        "plot_history(history)"
      ],
      "execution_count": null,
      "outputs": [
        {
          "output_type": "display_data",
          "data": {
            "image/png": "[encoded data removed]",
            "text/plain": [
              "<Figure size 432x288 with 1 Axes>"
            ]
          },
          "metadata": {
            "tags": [],
            "needs_background": "light"
          }
        },
        {
          "output_type": "display_data",
          "data": {
            "image/png": "[encoded data removed]",
            "text/plain": [
              "<Figure size 432x288 with 1 Axes>"
            ]
          },
          "metadata": {
            "tags": [],
            "needs_background": "light"
          }
        }
      ]
    },
    {
      "cell_type": "markdown",
      "metadata": {
        "id": "NdigOo0FsUjp"
      },
      "source": [
        "###Evaluate"
      ]
    },
    {
      "cell_type": "code",
      "metadata": {
        "id": "oaq19yG8q_nw"
      },
      "source": [
        "test_userID = X_test['user_id']\n",
        "test_userDATA = X_test[['fans','average_stars','friends','vote_funny','useful','vote_cool','hot','more',\n",
        "'profile','cute','list','note','plain','cool','funny','writer','photos']] \n",
        "\n",
        "test_itemID = X_test['item_id']\n",
        "test_itemDATA = X_test[['latitude','longitude','Breakfast & Brunch', 'American (Traditional)', 'Burgers', 'Fast Food', \n",
        "            'American (New)', 'Chinese', 'Pizza', 'Italian', 'Sandwiches', 'Sushi Bars', 'Japanese', \n",
        "            'Indian', 'Mexican', 'Vietnamese', 'Thai', 'Asian Fusion','Take-out', 'Wi-Fi', \n",
        "            'dessert','latenight','lunch','dinner','breakfast','brunch', 'Caters', \n",
        "            'Noise Level','Takes Reservations', 'Delivery', 'romantic','intimate','touristy',\n",
        "            'hipster','divey','classy','trendy','upscale','casual',\n",
        "            'Has TV','Outdoor Seating', 'Attire', 'Alcohol', 'Waiter Service', \n",
        "            'Accepts Credit Cards', 'Good for Kids', 'Good For Groups', \n",
        "            'Price Range', 'Wheelchair Accessible']]"
      ],
      "execution_count": null,
      "outputs": []
    },
    {
      "cell_type": "code",
      "metadata": {
        "colab": {
          "base_uri": "https://localhost:8080/"
        },
        "id": "iA6ETP1mrB9U",
        "outputId": "1bb68371-fcad-418e-f758-78b6920042db"
      },
      "source": [
        "scores=ConvNHF.evaluate([[test_userID,test_userDATA,test_itemID,test_itemDATA],test_reviews],y_test,verbose=0)\n",
        "print(' RMSE = %.4f'%scores[1])"
      ],
      "execution_count": null,
      "outputs": [
        {
          "output_type": "stream",
          "text": [
            " RMSE = 0.4196\n"
          ],
          "name": "stdout"
        }
      ]
    },
    {
      "cell_type": "code",
      "metadata": {
        "colab": {
          "base_uri": "https://localhost:8080/"
        },
        "id": "Dv8jyF6Erh6l",
        "outputId": "133b4b00-2eeb-4d30-914d-c9e004a2d2dd"
      },
      "source": [
        "ConvNHF.save( 'ConvHyb_new_users_sansDense.h5', overwrite = True)\n",
        "np.save('HistoryConvHyb_new_userssansDense.npy',history.history)\n",
        "\n",
        "\n",
        "import pickle \n",
        "def save_obj(obj,path):\n",
        "    with open(path+'.pkl', 'wb') as f:\n",
        "        pickle.dump(obj, f, pickle.HIGHEST_PROTOCOL)\n",
        "\n",
        "save_obj(scores,'ConvHyb_new_users_sansDense')"
      ],
      "execution_count": null,
      "outputs": [
        {
          "output_type": "stream",
          "text": [
            "/usr/local/lib/python3.7/dist-packages/keras/utils/generic_utils.py:497: CustomMaskWarning: Custom mask layers require a config and must override get_config. When loading, the custom mask layer must be passed to the custom_objects argument.\n",
            "  category=CustomMaskWarning)\n"
          ],
          "name": "stderr"
        }
      ]
    }
  ]
}
