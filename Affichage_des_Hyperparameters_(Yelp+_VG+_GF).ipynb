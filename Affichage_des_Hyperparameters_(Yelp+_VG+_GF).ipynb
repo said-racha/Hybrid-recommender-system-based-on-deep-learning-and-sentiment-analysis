{
  "nbformat": 4,
  "nbformat_minor": 0,
  "metadata": {
    "colab": {
      "name": "Affichage des Hyperparameters (Yelp+ VG+ GF).ipynb",
      "provenance": [],
      "collapsed_sections": [],
      "include_colab_link": true
    },
    "kernelspec": {
      "name": "python3",
      "display_name": "Python 3"
    },
    "language_info": {
      "name": "python"
    }
  },
  "cells": [
    {
      "cell_type": "markdown",
      "metadata": {
        "id": "view-in-github",
        "colab_type": "text"
      },
      "source": [
        "<a href=\"https://colab.research.google.com/github/said-racha/Hybrid-recommender-system-based-on-deep-learning-and-sentiment-analysis/blob/main/Affichage_des_Hyperparameters_(Yelp%2B_VG%2B_GF).ipynb\" target=\"_parent\"><img src=\"https://colab.research.google.com/assets/colab-badge.svg\" alt=\"Open In Colab\"/></a>"
      ]
    },
    {
      "cell_type": "code",
      "metadata": {
        "colab": {
          "base_uri": "https://localhost:8080/"
        },
        "id": "VPTG9s7uYSXe",
        "outputId": "59d9e629-890e-4d93-8d7e-143069280ad9"
      },
      "source": [
        "from google.colab import drive\n",
        "drive.mount('/content/drive')"
      ],
      "execution_count": null,
      "outputs": [
        {
          "output_type": "stream",
          "text": [
            "Mounted at /content/drive\n"
          ],
          "name": "stdout"
        }
      ]
    },
    {
      "cell_type": "code",
      "metadata": {
        "id": "b2-y9TrwagGy"
      },
      "source": [
        "import pickle \n",
        "import pandas as pn\n",
        "import matplotlib.pyplot as plt\n",
        "import numpy as np"
      ],
      "execution_count": null,
      "outputs": []
    },
    {
      "cell_type": "markdown",
      "metadata": {
        "id": "q_AeoIc6fEZ0"
      },
      "source": [
        "#Dropout"
      ]
    },
    {
      "cell_type": "markdown",
      "metadata": {
        "id": "MO_fhcX1Zje2"
      },
      "source": [
        "##Yelp CF"
      ]
    },
    {
      "cell_type": "code",
      "metadata": {
        "id": "1qDihLsFZpFr"
      },
      "source": [
        "PIK_4='/content/drive/MyDrive/Sans Data/CONVNHF/ConVHyb sans data normal users /Sans Data/Hyper Param/Dropout/ ConvNHF 0 Sans data  EPOCHS 20  DRP 40.000000 LR            0.pkl'\n",
        "with open(PIK_4, \"rb\") as f:\n",
        "    scores_4_yelp_CF=pickle.load(f)\n",
        "\n",
        "\n",
        "PIK_5='/content/drive/MyDrive/Sans Data/CONVNHF/ConVHyb sans data normal users /Sans Data/ ConvNHF Sans data Yelp .97 EPOCHS 20  LAYERS 10 LR            0.pkl'\n",
        "with open(PIK_5, \"rb\") as f:\n",
        "    scores_5_yelp_CF=pickle.load(f)\n",
        "\n",
        "\n",
        "PIK_6='/content/drive/MyDrive/Sans Data/CONVNHF/ConVHyb sans data normal users /Sans Data/Hyper Param/Dropout/ ConvNHF 1 Sans data  EPOCHS 20  DRP 60.000000 LR            0.pkl'\n",
        "with open(PIK_6, \"rb\") as f:\n",
        "    scores_6_yelp_CF=pickle.load(f)\n",
        "\n",
        "\n",
        "PIK_7='/content/drive/MyDrive/Sans Data/CONVNHF/ConVHyb sans data normal users /Sans Data/Hyper Param/Dropout/ ConvNHF 2 Sans data  EPOCHS 20  DRP 70.000000 LR            0.pkl'\n",
        "with open(PIK_7, \"rb\") as f:\n",
        "    scores_7_yelp_CF=pickle.load(f)\n",
        "\n",
        "\n",
        "dict_CF_yelp={}\n",
        "\n",
        "dict_CF_yelp[7]=scores_7_yelp_CF[1]\n",
        "dict_CF_yelp[6]=scores_6_yelp_CF[1]\n",
        "dict_CF_yelp[5]=scores_5_yelp_CF[1]\n",
        "dict_CF_yelp[4]=scores_4_yelp_CF[1]\n"
      ],
      "execution_count": null,
      "outputs": []
    },
    {
      "cell_type": "markdown",
      "metadata": {
        "id": "jMVKR-8Bl4dy"
      },
      "source": [
        "##Yelp"
      ]
    },
    {
      "cell_type": "code",
      "metadata": {
        "id": "IZ2bKr_j5QzT"
      },
      "source": [
        "PIK_4='/content/drive/MyDrive/Colab crées/Hyper param/regler pb dropout (yelp)/models/Score_ConvHyb_4Dropout_yelp.pkl'\n",
        "with open(PIK_4, \"rb\") as f:\n",
        "    scores_4_yelp=pickle.load(f)\n",
        "\n",
        "\n",
        "PIK_5='/content/drive/MyDrive/Colab crées/Hyper param/calculer score notre modèle (yelp)/Score_ConvNHF_yelp.pkl'\n",
        "with open(PIK_5, \"rb\") as f:\n",
        "    scores_5_yelp=pickle.load(f)\n",
        "\n",
        "\n",
        "PIK_6='/content/drive/MyDrive/Colab crées/Hyper param/regler pb dropout (yelp)/models/Score_ConvHyb_6Dropout_yelp.pkl'\n",
        "with open(PIK_6, \"rb\") as f:\n",
        "    scores_6_yelp=pickle.load(f)\n",
        "\n",
        "\n",
        "PIK_7='/content/drive/MyDrive/Colab crées/Hyper param/regler pb dropout (yelp)/models/Score_ConvHyb_7Dropout_yelp.pkl'\n",
        "with open(PIK_7, \"rb\") as f:\n",
        "    scores_7_yelp=pickle.load(f)\n",
        "\n",
        "\n",
        "dict_yelp={}\n",
        "\n",
        "dict_yelp[7]=scores_7_yelp[1]\n",
        "dict_yelp[6]=scores_6_yelp[1]\n",
        "dict_yelp[5]=scores_5_yelp[1]\n",
        "dict_yelp[4]=scores_4_yelp[1]\n"
      ],
      "execution_count": null,
      "outputs": []
    },
    {
      "cell_type": "markdown",
      "metadata": {
        "id": "FvUaX2dWQDbu"
      },
      "source": [
        "##Video games"
      ]
    },
    {
      "cell_type": "code",
      "metadata": {
        "id": "DCQe2r0_Y0Pk"
      },
      "source": [
        "PIK_4='/content/drive/MyDrive/Models/Hyper param/Dropout/Score_ConvHyb_4Dropout_amazon.pkl'\n",
        "with open(PIK_4, \"rb\") as f:\n",
        "    scores_4=pickle.load(f)\n",
        "\n",
        "\n",
        "PIK_5='/content/drive/MyDrive/Models/Nrml users/ConvNHF/Score_ConvHyb5_nrml_users_amazon.pkl'\n",
        "with open(PIK_5, \"rb\") as f:\n",
        "    scores_5=pickle.load(f)\n",
        "\n",
        "\n",
        "PIK_6='/content/drive/MyDrive/Models/Hyper param/Dropout/Score_ConvHyb_6Dropout_amazon.pkl'\n",
        "with open(PIK_6, \"rb\") as f:\n",
        "    scores_6=pickle.load(f)\n",
        "\n",
        "\n",
        "PIK_7='/content/drive/MyDrive/Models/Hyper param/Dropout/Score_ConvHyb_7_v2_Dropout_amazon.pkl'\n",
        "with open(PIK_7, \"rb\") as f:\n",
        "    scores_7=pickle.load(f)\n",
        "\n",
        "\n",
        "dict1={}\n",
        "\n",
        "dict1[7]=scores_7[1]\n",
        "dict1[6]=scores_6[1]\n",
        "dict1[5]=scores_5[1]\n",
        "dict1[4]=scores_4[1]\n"
      ],
      "execution_count": null,
      "outputs": []
    },
    {
      "cell_type": "markdown",
      "metadata": {
        "id": "CjM7_707l75d"
      },
      "source": [
        "##Gourmet food"
      ]
    },
    {
      "cell_type": "code",
      "metadata": {
        "id": "Z33n-bLcmFgc"
      },
      "source": [
        "PIK_4='/content/drive/MyDrive/Colab crées/Hyper param/Gourmet food /Dropout/ ConvNHF 0 EPOCHS 20  DRP 40.00 LR 0.000001.pkl'\n",
        "with open(PIK_4, \"rb\") as f:\n",
        "    GF_scores_4=pickle.load(f)\n",
        "\n",
        "\n",
        "PIK_5='/content/drive/MyDrive/Colab crées/Hyper param/Gourmet food /Our model /_ConvNHF Gourmet_F .93.pkl'\n",
        "with open(PIK_5, \"rb\") as f:\n",
        "    GF_scores_5=pickle.load(f)\n",
        "\n",
        "\n",
        "PIK_6='/content/drive/MyDrive/Colab crées/Hyper param/Gourmet food /Dropout/ ConvNHF 1 EPOCHS 20  DRP 60.00 LR 0.000001.pkl'\n",
        "with open(PIK_6, \"rb\") as f:\n",
        "    GF_scores_6=pickle.load(f)\n",
        "\n",
        "\n",
        "PIK_7='/content/drive/MyDrive/Colab crées/Hyper param/Gourmet food /Dropout/ ConvNHF 2 EPOCHS 20  DRP 70.00 LR 0.000001.pkl'\n",
        "with open(PIK_7, \"rb\") as f:\n",
        "    GF_scores_7=pickle.load(f)\n",
        "\n",
        "\n",
        "\n",
        "dict3={}\n",
        "\n",
        "dict3[7]=GF_scores_7[1]\n",
        "dict3[6]=GF_scores_6[1]\n",
        "dict3[5]=GF_scores_5[1]\n",
        "dict3[4]=GF_scores_4[1]\n",
        "\n",
        "\n"
      ],
      "execution_count": null,
      "outputs": []
    },
    {
      "cell_type": "markdown",
      "metadata": {
        "id": "E94RigNOmC8l"
      },
      "source": [
        "##Affichage"
      ]
    },
    {
      "cell_type": "code",
      "metadata": {
        "colab": {
          "base_uri": "https://localhost:8080/",
          "height": 333
        },
        "id": "7l_QMbAMYn4u",
        "outputId": "cf2ebd3e-6113-461e-d847-02e997343ef6"
      },
      "source": [
        "\n",
        "list =dict_yelp.items()\n",
        "list=sorted(list)\n",
        "x_yelp,y_yelp=zip(*list)\n",
        "\n",
        "\n",
        "\n",
        "list =dict1.items()\n",
        "list=sorted(list)\n",
        "x,y=zip(*list)\n",
        "\n",
        "\n",
        "list =dict3.items()\n",
        "list=sorted(list)\n",
        "x_GF,y_GF=zip(*list)\n",
        "\n",
        "#Yelp colaboratif\n",
        "list=dict_CF_yelp.items()\n",
        "list=sorted(list)\n",
        "x_CF,y_CF=zip(*list)\n",
        "\n",
        "linestyles = ['bo','rd','y--','k*','y--']\n",
        "\n",
        "plt.plot(x_yelp,y_yelp,linestyles[0],linestyle = 'dashed')\n",
        "plt.plot(x,y,linestyles[1],linestyle = 'dashed')\n",
        "plt.plot(x_GF,y_GF,linestyles[2],linestyle = 'dashed')\n",
        "plt.plot(x_CF,y_CF,linestyles[3],linestyle = 'dashed')\n",
        "\n",
        "print('Yelp CF :', dict_CF_yelp)\n",
        "print('Yelp :', dict_yelp)\n",
        "plt.ylabel('RMSE')\n",
        "plt.xlabel('Dropout')\n",
        "legends = ['Yelp 2013','Gourmet Food','Video Games','SCF Yelp 2013','SCF']\n",
        "plt.legend(legends)  \n",
        "plt.show()  "
      ],
      "execution_count": null,
      "outputs": [
        {
          "output_type": "stream",
          "text": [
            "Yelp CF : {7: 0.4005078971385956, 6: 0.40026983618736267, 5: 0.39965716004371643, 4: 0.4000377953052521}\n",
            "Yelp : {7: 0.41701239347457886, 6: 0.40713605284690857, 5: 0.40207624435424805, 4: 0.4050219655036926}\n"
          ],
          "name": "stdout"
        },
        {
          "output_type": "display_data",
          "data": {
            "image/png": "[encoded data removed]",
            "text/plain": [
              "<Figure size 432x288 with 1 Axes>"
            ]
          },
          "metadata": {
            "tags": [],
            "needs_background": "light"
          }
        }
      ]
    },
    {
      "cell_type": "code",
      "metadata": {
        "id": "6KA0tsoHIQG4"
      },
      "source": [
        "#plt.savefig('/content/drive/MyDrive/Graphes a afficher/dropout.png')"
      ],
      "execution_count": null,
      "outputs": []
    },
    {
      "cell_type": "code",
      "metadata": {
        "colab": {
          "base_uri": "https://localhost:8080/",
          "height": 316
        },
        "id": "4OSDNEPL6wj1",
        "outputId": "6a4dffde-927c-4875-f636-2cf98dba65a7"
      },
      "source": [
        "\n",
        "list =dict1.items()\n",
        "list=sorted(list)\n",
        "x,y=zip(*list)\n",
        "\n",
        "\n",
        "list =dict3.items()\n",
        "list=sorted(list)\n",
        "x_GF,y_GF=zip(*list)\n",
        "\n",
        "linestyles = ['bo','rd','ys','k*','y--']\n",
        "\n",
        "plt.plot(x_GF,y_GF,linestyles[1],linestyle = 'dashed')\n",
        "plt.plot(x,y,linestyles[2],linestyle = 'dashed')\n",
        "plt.plot(x_CF,y_CF,linestyles[3],linestyle = 'dashed',markersize=8)\n",
        "\n",
        "print(dict1)\n",
        "plt.ylabel('RMSE')\n",
        "plt.xlabel('Dropout')\n",
        "legends = ['Gourmet Food','Video Games','SCF Yelp 2013']\n",
        "plt.legend(legends)  \n",
        "plt.show()  "
      ],
      "execution_count": null,
      "outputs": [
        {
          "output_type": "stream",
          "text": [
            "{7: 0.4006684422492981, 6: 0.3998904526233673, 5: 0.39913880825042725, 4: 0.40001270174980164}\n"
          ],
          "name": "stdout"
        },
        {
          "output_type": "display_data",
          "data": {
            "image/png": "[encoded data removed]",
            "text/plain": [
              "<Figure size 432x288 with 1 Axes>"
            ]
          },
          "metadata": {
            "tags": [],
            "needs_background": "light"
          }
        }
      ]
    },
    {
      "cell_type": "code",
      "metadata": {
        "id": "biz1eyWVYp8L"
      },
      "source": [
        "#plt.savefig('/content/drive/MyDrive/Graphes a afficher/dropout.png')"
      ],
      "execution_count": null,
      "outputs": []
    },
    {
      "cell_type": "markdown",
      "metadata": {
        "id": "iV82lH2iebma"
      },
      "source": [
        "#MLP layers\n"
      ]
    },
    {
      "cell_type": "markdown",
      "metadata": {
        "id": "g0wxC5LecTkL"
      },
      "source": [
        "##Yelp CF"
      ]
    },
    {
      "cell_type": "code",
      "metadata": {
        "id": "nHww23yjcVnf"
      },
      "source": [
        "yelp_MLP_8='/content/drive/MyDrive/Sans Data/CONVNHF/ConVHyb sans data normal users /Sans Data/Hyper Param/MLP/ ConvNHF 0 Sans data EPOCHS 20  LAYERS 8 LR            0.pkl'\n",
        "with open(yelp_MLP_8, \"rb\") as f:\n",
        "    scores_yelp_CF_MLP_8=pickle.load(f)\n",
        "\n",
        "\n",
        "yelp_MLP_9='/content/drive/MyDrive/Sans Data/CONVNHF/ConVHyb sans data normal users /Sans Data/Hyper Param/MLP/ ConvNHF 2 Sans data EPOCHS 20  LAYERS 9 LR            0.pkl'\n",
        "with open(yelp_MLP_9, \"rb\") as f:\n",
        "    scores_yelp_CF_MLP_9=pickle.load(f)\n",
        "\n",
        "\n",
        "yelp_MLP_10='/content/drive/MyDrive/Sans Data/CONVNHF/ConVHyb sans data normal users /Sans Data/ ConvNHF Sans data Yelp .97 EPOCHS 20  LAYERS 10 LR            0.pkl'\n",
        "with open(yelp_MLP_10, \"rb\") as f:\n",
        "    scores_yelp_CF_MLP_10=pickle.load(f)\n",
        "\n",
        "\n",
        "yelp_MLP_11='/content/drive/MyDrive/Sans Data/CONVNHF/ConVHyb sans data normal users /Sans Data/Hyper Param/MLP/ ConvNHF 1 Sans data EPOCHS 20  LAYERS 11 LR            0.pkl'\n",
        "with open(yelp_MLP_11, \"rb\") as f:\n",
        "    scores_yelp_CF_MLP_11=pickle.load(f)\n",
        "\n",
        "\n",
        "dict_CF_yelp={}\n",
        "\n",
        "dict_CF_yelp[11]=scores_yelp_CF_MLP_11[1]\n",
        "dict_CF_yelp[10]=scores_yelp_CF_MLP_10[1]\n",
        "dict_CF_yelp[9]=scores_yelp_CF_MLP_9[1]\n",
        "dict_CF_yelp[8]=scores_yelp_CF_MLP_8[1]\n",
        "\n"
      ],
      "execution_count": null,
      "outputs": []
    },
    {
      "cell_type": "markdown",
      "metadata": {
        "id": "kwtbZP98QPxP"
      },
      "source": [
        "##Yelp"
      ]
    },
    {
      "cell_type": "code",
      "metadata": {
        "id": "k914McxaQR2D"
      },
      "source": [
        "yelp_MLP_8='/content/drive/MyDrive/Colab crées/Hyper param/reger pb mlp layers (refaire hyperparameters)/Modèles/Score_ConvHyb_8yelp_amazon.pkl'\n",
        "with open(yelp_MLP_8, \"rb\") as f:\n",
        "    scores_yelp_MLP_8=pickle.load(f)\n",
        "\n",
        "\n",
        "yelp_MLP_9='/content/drive/MyDrive/Colab crées/Hyper param/reger pb mlp layers (refaire hyperparameters)/Modèles/Score_ConvHyb_9yelp_amazon.pkl'\n",
        "with open(yelp_MLP_9, \"rb\") as f:\n",
        "    scores_yelp_MLP_9=pickle.load(f)\n",
        "\n",
        "\n",
        "yelp_MLP_10='/content/drive/MyDrive/Colab crées/Hyper param/calculer score notre modèle (yelp)/Score_ConvNHF_yelp.pkl'\n",
        "with open(yelp_MLP_10, \"rb\") as f:\n",
        "    scores_yelp_MLP_10=pickle.load(f)\n",
        "\n",
        "\n",
        "yelp_MLP_11='/content/drive/MyDrive/Colab crées/Hyper param/reger pb mlp layers (refaire hyperparameters)/Modèles/Score_ConvHyb_11yelp_amazon.pkl'\n",
        "with open(yelp_MLP_11, \"rb\") as f:\n",
        "    scores_yelp_MLP_11=pickle.load(f)\n",
        "\n",
        "\n",
        "dict_yelp={}\n",
        "\n",
        "dict_yelp[11]=scores_yelp_MLP_11[1]\n",
        "dict_yelp[10]=scores_yelp_MLP_10[1]\n",
        "dict_yelp[9]=scores_yelp_MLP_9[1]\n",
        "dict_yelp[8]=scores_yelp_MLP_8[1]\n",
        "\n"
      ],
      "execution_count": null,
      "outputs": []
    },
    {
      "cell_type": "markdown",
      "metadata": {
        "id": "8sGx_KNKQG4d"
      },
      "source": [
        "##Video games"
      ]
    },
    {
      "cell_type": "code",
      "metadata": {
        "id": "ENmv3GyBeeV6"
      },
      "source": [
        "MLP_8='/content/drive/MyDrive/Models/Hyper param/MLP layers/Score_ConvHyb_8layers_amazon.pkl'\n",
        "with open(MLP_8, \"rb\") as f:\n",
        "    scores_MLP_8=pickle.load(f)\n",
        "\n",
        "\n",
        "MLP_9='/content/drive/MyDrive/Models/Hyper param/MLP layers/Score_ConvHyb_9layers_amazon.pkl'\n",
        "with open(MLP_9, \"rb\") as f:\n",
        "    scores_MLP_9=pickle.load(f)\n",
        "\n",
        "\n",
        "MLP_10='/content/drive/MyDrive/Models/Nrml users/ConvNHF/Score_ConvHyb5_nrml_users_amazon.pkl'\n",
        "with open(MLP_10, \"rb\") as f:\n",
        "    scores_MLP_10=pickle.load(f)\n",
        "\n",
        "\n",
        "MLP_11='/content/drive/MyDrive/Models/Hyper param/MLP layers/Score_ConvHyb_11layers_amazon.pkl'\n",
        "with open(MLP_11, \"rb\") as f:\n",
        "    scores_MLP_11=pickle.load(f)\n",
        "\n",
        "\n",
        "dict2={}\n",
        "\n",
        "dict2[11]=scores_MLP_11[1]\n",
        "dict2[10]=scores_MLP_10[1]\n",
        "dict2[9]=scores_MLP_9[1]\n",
        "dict2[8]=scores_MLP_8[1]"
      ],
      "execution_count": null,
      "outputs": []
    },
    {
      "cell_type": "markdown",
      "metadata": {
        "id": "IGOSGCy7mZ5H"
      },
      "source": [
        "##Gourmet food"
      ]
    },
    {
      "cell_type": "code",
      "metadata": {
        "id": "ArylwBivmODd"
      },
      "source": [
        "\n",
        "#MLP\n",
        "MLP_8='/content/drive/MyDrive/Colab crées/Hyper param/Gourmet food /MLP layers/ ConvNHF 0  LAYERS 8 LR 0.000001.pkl'\n",
        "with open(MLP_8, \"rb\") as f:\n",
        "    GF_scores_MLP_8=pickle.load(f)\n",
        "\n",
        "\n",
        "MLP_9='/content/drive/MyDrive/Colab crées/Hyper param/Gourmet food /MLP layers/ ConvNHF 1   LAYERS 9 LR 0.000001.pkl'\n",
        "with open(MLP_9, \"rb\") as f:\n",
        "    GF_scores_MLP_9=pickle.load(f)\n",
        "\n",
        "\n",
        "MLP_10='/content/drive/MyDrive/Colab crées/Hyper param/Gourmet food /Our model /_ConvNHF Gourmet_F .93.pkl'\n",
        "with open(MLP_10, \"rb\") as f:\n",
        "    GF_scores_MLP_10=pickle.load(f)\n",
        "\n",
        "\n",
        "MLP_11='/content/drive/MyDrive/Colab crées/Hyper param/Gourmet food /MLP layers/ ConvNHF 2 EPOCHS 20  LAYERS 11 LR 0.000001.pkl'\n",
        "with open(MLP_11, \"rb\") as f:\n",
        "    GF_scores_MLP_11=pickle.load(f)\n",
        "\n",
        "dict4={}\n",
        "\n",
        "\n",
        "dict4[11]=GF_scores_MLP_11[1]\n",
        "dict4[10]=GF_scores_MLP_10[1]\n",
        "dict4[9]=GF_scores_MLP_9[1]\n",
        "dict4[8]=GF_scores_MLP_8[1]"
      ],
      "execution_count": null,
      "outputs": []
    },
    {
      "cell_type": "markdown",
      "metadata": {
        "id": "Ak7c9XOQU4FD"
      },
      "source": [
        "##Affichage"
      ]
    },
    {
      "cell_type": "code",
      "metadata": {
        "colab": {
          "base_uri": "https://localhost:8080/",
          "height": 371
        },
        "id": "LChWAuUEelOQ",
        "outputId": "1af1da49-08bd-41e9-d286-b3af73013350"
      },
      "source": [
        "list_yelp =dict_yelp.items()\n",
        "list_yelp=sorted(list_yelp)\n",
        "x_yelp,y_yelp=zip(*list_yelp)\n",
        "\n",
        "\n",
        "list2 =dict2.items()\n",
        "list2=sorted(list2)\n",
        "x_VG_MLP,y_VG_MLP=zip(*list2)\n",
        "\n",
        "\n",
        "list4 =dict4.items()\n",
        "list4=sorted(list4)\n",
        "x_GF_MLP,y_GF_MLP=zip(*list4)\n",
        "\n",
        "\n",
        "#Yelp colaboratif\n",
        "list=dict_CF_yelp.items()\n",
        "list=sorted(list)\n",
        "x_CF,y_CF=zip(*list)\n",
        "\n",
        "linestyles = ['bo','rd','y--','k*','y--']\n",
        "\n",
        "plt.plot(x_yelp,y_yelp,linestyles[0],linestyle = 'dashed')\n",
        "plt.plot(x_GF_MLP,y_GF_MLP,linestyles[1],linestyle = 'dashed')\n",
        "plt.plot(x_VG_MLP,y_VG_MLP,linestyles[2],linestyle = 'dashed')\n",
        "\n",
        "plt.plot(x_CF,y_CF,linestyles[3],linestyle = 'dashed')\n",
        "\n",
        "print('Yelp CF :', dict_CF_yelp)\n",
        "print('Yelp :', dict_yelp)\n",
        "print('Video Games :', dict2)\n",
        "print('Gourmet Food :', dict4)\n",
        "plt.ylabel('RMSE')\n",
        "plt.xlabel('MLP Layers')\n",
        "legends = ['Yelp 2013','Gourmet Food','Video Games','SCF Yelp 2013','SCF']\n",
        "plt.legend(legends)  \n",
        "plt.show()  \n",
        "\n",
        "#plt.yticks(np.arange(0.398, 0.45, 0.007))\n",
        "\n",
        "\n",
        "plt.show()  "
      ],
      "execution_count": null,
      "outputs": [
        {
          "output_type": "stream",
          "text": [
            "Yelp CF : {11: 0.4001176655292511, 10: 0.39965716004371643, 9: 0.40098604559898376, 8: 0.40052521228790283}\n",
            "Yelp : {11: 0.4053320586681366, 10: 0.40207624435424805, 9: 0.44758084416389465, 8: 0.4316745102405548}\n",
            "Video Games : {11: 0.4002076983451843, 10: 0.39913880825042725, 9: 0.3997657001018524, 8: 0.40008825063705444}\n",
            "Gourmet Food : {11: 0.40010565519332886, 10: 0.39926084876060486, 9: 0.40027645230293274, 8: 0.39993298053741455}\n"
          ],
          "name": "stdout"
        },
        {
          "output_type": "display_data",
          "data": {
            "image/png": "[encoded data removed]",
            "text/plain": [
              "<Figure size 432x288 with 1 Axes>"
            ]
          },
          "metadata": {
            "tags": [],
            "needs_background": "light"
          }
        }
      ]
    },
    {
      "cell_type": "code",
      "metadata": {
        "colab": {
          "base_uri": "https://localhost:8080/",
          "height": 350
        },
        "id": "xMAZRiW5pK-H",
        "outputId": "e7661696-d4ff-474a-bcc6-99ddd4fb6652"
      },
      "source": [
        "\n",
        "list2 =dict2.items()\n",
        "list2=sorted(list2)\n",
        "x_VG,y_VG=zip(*list2)\n",
        "\n",
        "\n",
        "list4 =dict4.items()\n",
        "list4=sorted(list4)\n",
        "x_GF,y_GF=zip(*list4)\n",
        "\n",
        "#Yelp colaboratif\n",
        "list=dict_CF_yelp.items()\n",
        "list=sorted(list)\n",
        "x_CF,y_CF=zip(*list)\n",
        "\n",
        "print('Yelp CF :', dict_CF_yelp)\n",
        "print('Video Games :', dict2)\n",
        "print('Gourmet Food :', dict4)\n",
        "\n",
        "linestyles = ['bo','rd','ys','k*','y--']\n",
        "plt.plot(x_GF_MLP,y_GF_MLP,linestyles[1],linestyle = 'dashed')\n",
        "plt.plot(x_VG_MLP,y_VG_MLP,linestyles[2],linestyle = 'dashed')\n",
        "plt.plot(x_CF,y_CF,linestyles[3],linestyle = 'dashed',markersize=8)\n",
        "plt.ylabel('RMSE')\n",
        "plt.xlabel('MLP Layers')\n",
        "legends = ['Gourmet Food','Video Games','SCF Yelp 2013']\n",
        "plt.legend(legends, loc =\"upper right\")  \n",
        "\n",
        "\n",
        "\n",
        "plt.show()  "
      ],
      "execution_count": null,
      "outputs": [
        {
          "output_type": "stream",
          "text": [
            "Yelp CF : {11: 0.4001176655292511, 10: 0.39965716004371643, 9: 0.40098604559898376, 8: 0.40052521228790283}\n",
            "Video Games : {11: 0.4002076983451843, 10: 0.39913880825042725, 9: 0.3997657001018524, 8: 0.40008825063705444}\n",
            "Gourmet Food : {11: 0.40010565519332886, 10: 0.39926084876060486, 9: 0.40027645230293274, 8: 0.39993298053741455}\n"
          ],
          "name": "stdout"
        },
        {
          "output_type": "display_data",
          "data": {
            "image/png": "[encoded data removed]",
            "text/plain": [
              "<Figure size 432x288 with 1 Axes>"
            ]
          },
          "metadata": {
            "tags": [],
            "needs_background": "light"
          }
        }
      ]
    },
    {
      "cell_type": "code",
      "metadata": {
        "id": "SZE9mDnaenRo"
      },
      "source": [
        "#plt.savefig('/content/drive/MyDrive/Graphes a afficher/mlp_layers.png')"
      ],
      "execution_count": null,
      "outputs": []
    }
  ]
}